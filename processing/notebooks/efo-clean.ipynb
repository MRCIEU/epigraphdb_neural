{
 "cells": [
  {
   "cell_type": "code",
   "execution_count": 1,
   "metadata": {},
   "outputs": [],
   "source": [
    "%load_ext autoreload\n",
    "%load_ext lab_black\n",
    "%autoreload 2"
   ]
  },
  {
   "cell_type": "code",
   "execution_count": 2,
   "metadata": {},
   "outputs": [],
   "source": [
    "import sys\n",
    "\n",
    "sys.path.append(\"..\")"
   ]
  },
  {
   "cell_type": "markdown",
   "metadata": {},
   "source": [
    "---"
   ]
  },
  {
   "cell_type": "code",
   "execution_count": 21,
   "metadata": {},
   "outputs": [],
   "source": [
    "import json\n",
    "\n",
    "import pandas as pd\n",
    "import networkx as nx\n",
    "\n",
    "from funcs.utils import find_project_root"
   ]
  },
  {
   "cell_type": "code",
   "execution_count": 10,
   "metadata": {},
   "outputs": [],
   "source": [
    "root = find_project_root()\n",
    "data_dir = root.parent / \"data\"\n",
    "efo_dir = data_dir / \"efo\"\n",
    "assert efo_dir.exists()\n",
    "\n",
    "efo_file = efo_dir / \"efo-v3.29.1.json\"\n",
    "assert efo_file.exists()"
   ]
  },
  {
   "cell_type": "code",
   "execution_count": 95,
   "metadata": {},
   "outputs": [],
   "source": [
    "output_efo_graph = efo_dir / \"efo_graph.gpickle\"\n",
    "output_efo_nodes = efo_dir / \"efo_nodes_clean.csv\""
   ]
  },
  {
   "cell_type": "code",
   "execution_count": 16,
   "metadata": {},
   "outputs": [],
   "source": [
    "with efo_file.open() as f:\n",
    "    efo_data = json.load(f)"
   ]
  },
  {
   "cell_type": "code",
   "execution_count": 20,
   "metadata": {},
   "outputs": [],
   "source": [
    "efo_nodes_raw = efo_data[\"graphs\"][0][\"nodes\"]\n",
    "efo_edges_raw = efo_data[\"graphs\"][0][\"edges\"]"
   ]
  },
  {
   "cell_type": "code",
   "execution_count": 68,
   "metadata": {},
   "outputs": [
    {
     "name": "stdout",
     "output_type": "stream",
     "text": [
      "<class 'pandas.core.frame.DataFrame'>\n",
      "RangeIndex: 28402 entries, 0 to 28401\n",
      "Data columns (total 2 columns):\n",
      " #   Column  Non-Null Count  Dtype \n",
      "---  ------  --------------  ----- \n",
      " 0   id      28402 non-null  object\n",
      " 1   lbl     28402 non-null  object\n",
      "dtypes: object(2)\n",
      "memory usage: 443.9+ KB\n",
      "None\n"
     ]
    },
    {
     "data": {
      "text/html": [
       "<div>\n",
       "<style scoped>\n",
       "    .dataframe tbody tr th:only-of-type {\n",
       "        vertical-align: middle;\n",
       "    }\n",
       "\n",
       "    .dataframe tbody tr th {\n",
       "        vertical-align: top;\n",
       "    }\n",
       "\n",
       "    .dataframe thead th {\n",
       "        text-align: right;\n",
       "    }\n",
       "</style>\n",
       "<table border=\"1\" class=\"dataframe\">\n",
       "  <thead>\n",
       "    <tr style=\"text-align: right;\">\n",
       "      <th></th>\n",
       "      <th>id</th>\n",
       "      <th>lbl</th>\n",
       "    </tr>\n",
       "  </thead>\n",
       "  <tbody>\n",
       "    <tr>\n",
       "      <th>0</th>\n",
       "      <td>http://www.orpha.net/ORDO/Orphanet_199315</td>\n",
       "      <td>Familial clubfoot with or without associated l...</td>\n",
       "    </tr>\n",
       "    <tr>\n",
       "      <th>1</th>\n",
       "      <td>http://purl.obolibrary.org/obo/MONDO_0002974</td>\n",
       "      <td>cervical cancer</td>\n",
       "    </tr>\n",
       "    <tr>\n",
       "      <th>2</th>\n",
       "      <td>http://www.orpha.net/ORDO/Orphanet_209203</td>\n",
       "      <td>Qualitative or quantitative defects of glucosa...</td>\n",
       "    </tr>\n",
       "    <tr>\n",
       "      <th>3</th>\n",
       "      <td>http://www.orpha.net/ORDO/Orphanet_199318</td>\n",
       "      <td>15q13.3 microdeletion syndrome</td>\n",
       "    </tr>\n",
       "    <tr>\n",
       "      <th>4</th>\n",
       "      <td>http://purl.obolibrary.org/obo/MONDO_0002977</td>\n",
       "      <td>autoimmune disease of the nervous system</td>\n",
       "    </tr>\n",
       "    <tr>\n",
       "      <th>...</th>\n",
       "      <td>...</td>\n",
       "      <td>...</td>\n",
       "    </tr>\n",
       "    <tr>\n",
       "      <th>28397</th>\n",
       "      <td>http://www.orpha.net/ORDO/Orphanet_289548</td>\n",
       "      <td>Inherited isolated adrenal insufficiency due t...</td>\n",
       "    </tr>\n",
       "    <tr>\n",
       "      <th>28398</th>\n",
       "      <td>http://purl.obolibrary.org/obo/NCBITaxon_8128</td>\n",
       "      <td>Oreochromis niloticus</td>\n",
       "    </tr>\n",
       "    <tr>\n",
       "      <th>28399</th>\n",
       "      <td>http://purl.obolibrary.org/obo/NCBITaxon_44397</td>\n",
       "      <td>Melospiza melodia</td>\n",
       "    </tr>\n",
       "    <tr>\n",
       "      <th>28400</th>\n",
       "      <td>http://purl.obolibrary.org/obo/UBERON_0002137</td>\n",
       "      <td>aortic valve</td>\n",
       "    </tr>\n",
       "    <tr>\n",
       "      <th>28401</th>\n",
       "      <td>http://purl.obolibrary.org/obo/UBERON_0002135</td>\n",
       "      <td>mitral valve</td>\n",
       "    </tr>\n",
       "  </tbody>\n",
       "</table>\n",
       "<p>28402 rows × 2 columns</p>\n",
       "</div>"
      ],
      "text/plain": [
       "                                                   id  \\\n",
       "0           http://www.orpha.net/ORDO/Orphanet_199315   \n",
       "1        http://purl.obolibrary.org/obo/MONDO_0002974   \n",
       "2           http://www.orpha.net/ORDO/Orphanet_209203   \n",
       "3           http://www.orpha.net/ORDO/Orphanet_199318   \n",
       "4        http://purl.obolibrary.org/obo/MONDO_0002977   \n",
       "...                                               ...   \n",
       "28397       http://www.orpha.net/ORDO/Orphanet_289548   \n",
       "28398   http://purl.obolibrary.org/obo/NCBITaxon_8128   \n",
       "28399  http://purl.obolibrary.org/obo/NCBITaxon_44397   \n",
       "28400   http://purl.obolibrary.org/obo/UBERON_0002137   \n",
       "28401   http://purl.obolibrary.org/obo/UBERON_0002135   \n",
       "\n",
       "                                                     lbl  \n",
       "0      Familial clubfoot with or without associated l...  \n",
       "1                                        cervical cancer  \n",
       "2      Qualitative or quantitative defects of glucosa...  \n",
       "3                         15q13.3 microdeletion syndrome  \n",
       "4               autoimmune disease of the nervous system  \n",
       "...                                                  ...  \n",
       "28397  Inherited isolated adrenal insufficiency due t...  \n",
       "28398                              Oreochromis niloticus  \n",
       "28399                                  Melospiza melodia  \n",
       "28400                                       aortic valve  \n",
       "28401                                       mitral valve  \n",
       "\n",
       "[28402 rows x 2 columns]"
      ]
     },
     "execution_count": 68,
     "metadata": {},
     "output_type": "execute_result"
    }
   ],
   "source": [
    "def _extract_record(rec):\n",
    "    keys = rec.keys()\n",
    "    id = rec[\"id\"] if \"id\" in keys else None\n",
    "    lbl = rec[\"lbl\"] if \"lbl\" in keys else None\n",
    "    rec_type = rec[\"type\"] if \"type\" in keys else None\n",
    "    res = {\"id\": id, \"lbl\": lbl, \"type\": rec_type}\n",
    "    return res\n",
    "\n",
    "\n",
    "efo_nodes = (\n",
    "    pd.DataFrame.from_records([_extract_record(_) for _ in efo_nodes_raw])\n",
    "    .dropna()\n",
    "    .drop_duplicates([\"lbl\"])\n",
    "    .query(\"type == 'CLASS'\")\n",
    "    .drop(columns=[\"type\"])\n",
    "    .reset_index(drop=True)\n",
    ")\n",
    "print(efo_nodes.info())\n",
    "efo_nodes"
   ]
  },
  {
   "cell_type": "code",
   "execution_count": 72,
   "metadata": {},
   "outputs": [
    {
     "name": "stdout",
     "output_type": "stream",
     "text": [
      "<class 'pandas.core.frame.DataFrame'>\n",
      "Int64Index: 45884 entries, 0 to 53335\n",
      "Data columns (total 2 columns):\n",
      " #   Column  Non-Null Count  Dtype \n",
      "---  ------  --------------  ----- \n",
      " 0   source  45884 non-null  object\n",
      " 1   target  45884 non-null  object\n",
      "dtypes: object(2)\n",
      "memory usage: 1.1+ MB\n",
      "None\n"
     ]
    },
    {
     "data": {
      "text/html": [
       "<div>\n",
       "<style scoped>\n",
       "    .dataframe tbody tr th:only-of-type {\n",
       "        vertical-align: middle;\n",
       "    }\n",
       "\n",
       "    .dataframe tbody tr th {\n",
       "        vertical-align: top;\n",
       "    }\n",
       "\n",
       "    .dataframe thead th {\n",
       "        text-align: right;\n",
       "    }\n",
       "</style>\n",
       "<table border=\"1\" class=\"dataframe\">\n",
       "  <thead>\n",
       "    <tr style=\"text-align: right;\">\n",
       "      <th></th>\n",
       "      <th>source</th>\n",
       "      <th>target</th>\n",
       "    </tr>\n",
       "  </thead>\n",
       "  <tbody>\n",
       "    <tr>\n",
       "      <th>0</th>\n",
       "      <td>http://www.orpha.net/ORDO/Orphanet_168606</td>\n",
       "      <td>http://purl.obolibrary.org/obo/MONDO_0024255</td>\n",
       "    </tr>\n",
       "    <tr>\n",
       "      <th>1</th>\n",
       "      <td>http://www.ebi.ac.uk/efo/EFO_1000407</td>\n",
       "      <td>http://purl.obolibrary.org/obo/MONDO_0002722</td>\n",
       "    </tr>\n",
       "    <tr>\n",
       "      <th>3</th>\n",
       "      <td>http://purl.obolibrary.org/obo/MONDO_0016629</td>\n",
       "      <td>http://purl.obolibrary.org/obo/MONDO_0002243</td>\n",
       "    </tr>\n",
       "    <tr>\n",
       "      <th>4</th>\n",
       "      <td>http://purl.obolibrary.org/obo/NCBITaxon_2173</td>\n",
       "      <td>http://purl.obolibrary.org/obo/NCBITaxon_2157</td>\n",
       "    </tr>\n",
       "    <tr>\n",
       "      <th>5</th>\n",
       "      <td>http://www.ebi.ac.uk/efo/EFO_0002097</td>\n",
       "      <td>http://www.ebi.ac.uk/efo/EFO_0002888</td>\n",
       "    </tr>\n",
       "    <tr>\n",
       "      <th>...</th>\n",
       "      <td>...</td>\n",
       "      <td>...</td>\n",
       "    </tr>\n",
       "    <tr>\n",
       "      <th>53330</th>\n",
       "      <td>http://www.orpha.net/ORDO/Orphanet_238459</td>\n",
       "      <td>http://www.orpha.net/ORDO/Orphanet_371047</td>\n",
       "    </tr>\n",
       "    <tr>\n",
       "      <th>53332</th>\n",
       "      <td>http://www.ebi.ac.uk/efo/EFO_0008118</td>\n",
       "      <td>http://www.ebi.ac.uk/efo/EFO_0007937</td>\n",
       "    </tr>\n",
       "    <tr>\n",
       "      <th>53333</th>\n",
       "      <td>http://www.ebi.ac.uk/efo/EFO_0008766</td>\n",
       "      <td>http://www.ebi.ac.uk/efo/EFO_0001457</td>\n",
       "    </tr>\n",
       "    <tr>\n",
       "      <th>53334</th>\n",
       "      <td>http://purl.obolibrary.org/obo/CLO_0014025</td>\n",
       "      <td>http://www.ebi.ac.uk/efo/EFO_0001640</td>\n",
       "    </tr>\n",
       "    <tr>\n",
       "      <th>53335</th>\n",
       "      <td>http://www.orpha.net/ORDO/Orphanet_42642</td>\n",
       "      <td>http://www.orpha.net/ORDO/Orphanet_290839</td>\n",
       "    </tr>\n",
       "  </tbody>\n",
       "</table>\n",
       "<p>45884 rows × 2 columns</p>\n",
       "</div>"
      ],
      "text/plain": [
       "                                              source  \\\n",
       "0          http://www.orpha.net/ORDO/Orphanet_168606   \n",
       "1               http://www.ebi.ac.uk/efo/EFO_1000407   \n",
       "3       http://purl.obolibrary.org/obo/MONDO_0016629   \n",
       "4      http://purl.obolibrary.org/obo/NCBITaxon_2173   \n",
       "5               http://www.ebi.ac.uk/efo/EFO_0002097   \n",
       "...                                              ...   \n",
       "53330      http://www.orpha.net/ORDO/Orphanet_238459   \n",
       "53332           http://www.ebi.ac.uk/efo/EFO_0008118   \n",
       "53333           http://www.ebi.ac.uk/efo/EFO_0008766   \n",
       "53334     http://purl.obolibrary.org/obo/CLO_0014025   \n",
       "53335       http://www.orpha.net/ORDO/Orphanet_42642   \n",
       "\n",
       "                                              target  \n",
       "0       http://purl.obolibrary.org/obo/MONDO_0024255  \n",
       "1       http://purl.obolibrary.org/obo/MONDO_0002722  \n",
       "3       http://purl.obolibrary.org/obo/MONDO_0002243  \n",
       "4      http://purl.obolibrary.org/obo/NCBITaxon_2157  \n",
       "5               http://www.ebi.ac.uk/efo/EFO_0002888  \n",
       "...                                              ...  \n",
       "53330      http://www.orpha.net/ORDO/Orphanet_371047  \n",
       "53332           http://www.ebi.ac.uk/efo/EFO_0007937  \n",
       "53333           http://www.ebi.ac.uk/efo/EFO_0001457  \n",
       "53334           http://www.ebi.ac.uk/efo/EFO_0001640  \n",
       "53335      http://www.orpha.net/ORDO/Orphanet_290839  \n",
       "\n",
       "[45884 rows x 2 columns]"
      ]
     },
     "execution_count": 72,
     "metadata": {},
     "output_type": "execute_result"
    }
   ],
   "source": [
    "# source -[child_of]-> target\n",
    "efo_edges = (\n",
    "    pd.DataFrame(efo_edges_raw)\n",
    "    .query(\"pred == 'is_a'\")\n",
    "    .drop(columns=[\"pred\"])\n",
    "    .rename(columns={\"sub\": \"source\", \"obj\": \"target\"})\n",
    ")\n",
    "print(efo_edges.info())\n",
    "efo_edges"
   ]
  },
  {
   "cell_type": "code",
   "execution_count": 91,
   "metadata": {},
   "outputs": [],
   "source": [
    "efo_graph_edgelist = (\n",
    "    efo_edges.merge(\n",
    "        efo_nodes.rename(columns={\"id\": \"source\", \"lbl\": \"source_label\"}),\n",
    "        how=\"inner\",\n",
    "        left_on=\"source\",\n",
    "        right_on=\"source\",\n",
    "    )\n",
    "    .merge(\n",
    "        efo_nodes.rename(columns={\"id\": \"target\", \"lbl\": \"target_label\"}),\n",
    "        how=\"inner\",\n",
    "        left_on=\"target\",\n",
    "        right_on=\"target\",\n",
    "    )\n",
    "    .rename(columns={\"source\": \"source_id\", \"target\": \"target_id\"})\n",
    ")\n",
    "efo_nodes_dict = (\n",
    "    efo_nodes.rename(columns={\"lbl\": \"label\", \"id\": \"efo_id\"})\n",
    "    .set_index(\"label\")\n",
    "    .to_dict(orient=\"index\")\n",
    ")\n",
    "\n",
    "efo_graph = nx.from_pandas_edgelist(\n",
    "    efo_graph_edgelist,\n",
    "    source=\"source_label\",\n",
    "    target=\"target_label\",\n",
    "    create_using=nx.DiGraph,\n",
    ")\n",
    "nx.set_node_attributes(efo_graph, efo_nodes_dict)"
   ]
  },
  {
   "cell_type": "code",
   "execution_count": 92,
   "metadata": {},
   "outputs": [
    {
     "data": {
      "text/plain": [
       "AtlasView({'body weights and measures': {}})"
      ]
     },
     "execution_count": 92,
     "metadata": {},
     "output_type": "execute_result"
    }
   ],
   "source": [
    "efo_graph[\"body mass index\"]"
   ]
  },
  {
   "cell_type": "code",
   "execution_count": 93,
   "metadata": {},
   "outputs": [
    {
     "data": {
      "text/plain": [
       "{'efo_id': 'http://www.ebi.ac.uk/efo/EFO_0004340'}"
      ]
     },
     "execution_count": 93,
     "metadata": {},
     "output_type": "execute_result"
    }
   ],
   "source": [
    "efo_graph.nodes[\"body mass index\"]"
   ]
  },
  {
   "cell_type": "code",
   "execution_count": 94,
   "metadata": {},
   "outputs": [
    {
     "data": {
      "text/plain": [
       "11"
      ]
     },
     "execution_count": 94,
     "metadata": {},
     "output_type": "execute_result"
    }
   ],
   "source": [
    "nx.shortest_path_length(\n",
    "    efo_graph.to_undirected(), \"body mass index\", \"coronary artery disease\",\n",
    ")"
   ]
  },
  {
   "cell_type": "markdown",
   "metadata": {},
   "source": [
    "---"
   ]
  },
  {
   "cell_type": "code",
   "execution_count": 96,
   "metadata": {},
   "outputs": [],
   "source": [
    "nx.write_gpickle(efo_graph, output_efo_graph)"
   ]
  },
  {
   "cell_type": "code",
   "execution_count": 97,
   "metadata": {},
   "outputs": [],
   "source": [
    "efo_nodes.to_csv(output_efo_nodes, index=False)"
   ]
  }
 ],
 "metadata": {
  "kernelspec": {
   "display_name": "Python 3",
   "language": "python",
   "name": "python3"
  },
  "language_info": {
   "codemirror_mode": {
    "name": "ipython",
    "version": 3
   },
   "file_extension": ".py",
   "mimetype": "text/x-python",
   "name": "python",
   "nbconvert_exporter": "python",
   "pygments_lexer": "ipython3",
   "version": "3.7.9"
  }
 },
 "nbformat": 4,
 "nbformat_minor": 4
}

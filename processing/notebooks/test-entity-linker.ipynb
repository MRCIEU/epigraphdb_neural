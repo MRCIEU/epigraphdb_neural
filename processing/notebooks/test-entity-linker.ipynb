{
 "cells": [
  {
   "cell_type": "code",
   "execution_count": 1,
   "metadata": {},
   "outputs": [],
   "source": [
    "%load_ext autoreload\n",
    "%load_ext lab_black\n",
    "%autoreload 2"
   ]
  },
  {
   "cell_type": "code",
   "execution_count": 2,
   "metadata": {},
   "outputs": [],
   "source": [
    "import sys\n",
    "\n",
    "sys.path.append(\"..\")"
   ]
  },
  {
   "cell_type": "markdown",
   "metadata": {},
   "source": [
    "---"
   ]
  },
  {
   "cell_type": "code",
   "execution_count": 6,
   "metadata": {},
   "outputs": [],
   "source": [
    "import spacy\n",
    "import scispacy\n",
    "\n",
    "from scispacy.linking import EntityLinker"
   ]
  },
  {
   "cell_type": "code",
   "execution_count": 10,
   "metadata": {},
   "outputs": [],
   "source": [
    "from icecream import ic\n",
    "from funcs.utils import find_project_root\n",
    "from resources.nlp_models import load_scispacy_lg"
   ]
  },
  {
   "cell_type": "code",
   "execution_count": 4,
   "metadata": {},
   "outputs": [],
   "source": [
    "root = find_project_root()"
   ]
  },
  {
   "cell_type": "code",
   "execution_count": 5,
   "metadata": {},
   "outputs": [
    {
     "name": "stderr",
     "output_type": "stream",
     "text": [
      "2021-06-14 15:55:25.708 | INFO     | funcs.utils:timed:35 - load_scispacy_lg finished in 0.28 mins.\n"
     ]
    }
   ],
   "source": [
    "nlp = load_scispacy_lg()"
   ]
  },
  {
   "cell_type": "code",
   "execution_count": 7,
   "metadata": {},
   "outputs": [
    {
     "name": "stdout",
     "output_type": "stream",
     "text": [
      "https://ai2-s2-scispacy.s3-us-west-2.amazonaws.com/data/linkers/2020-10-09/mesh/tfidf_vectors_sparse.npz not found in cache, downloading to /tmp/tmpdl934rhr\n",
      "Finished download, copying /tmp/tmpdl934rhr to cache at /home/ik18445/.scispacy/datasets/d79636f6619c6aadf93a2e7af3700007e2ea4b4716d8df5e5765e0ca4644160c.f298dc56a154fb1b34970272805b8606a1c6cfcb3b3ebc85c142b832fdfdf812.tfidf_vectors_sparse.npz\n",
      "https://ai2-s2-scispacy.s3-us-west-2.amazonaws.com/data/linkers/2020-10-09/mesh/nmslib_index.bin not found in cache, downloading to /tmp/tmp_92vx194\n",
      "Finished download, copying /tmp/tmp_92vx194 to cache at /home/ik18445/.scispacy/datasets/7e3c2133fa65605a10eb67a4cfedf8d69bc553cf192dc9d883de80b803c89c5d.fb99c660e797fcb5f0a59c23a58316e9027046d6fb0519d1ae715099da1e5baa.nmslib_index.bin\n",
      "https://ai2-s2-scispacy.s3-us-west-2.amazonaws.com/data/linkers/2020-10-09/mesh/tfidf_vectorizer.joblib not found in cache, downloading to /tmp/tmpnepgpz27\n",
      "Finished download, copying /tmp/tmpnepgpz27 to cache at /home/ik18445/.scispacy/datasets/a7d29cb78e9d51ad60a7e09f19fe780209ba310518f4d6918c494c7b91982f2c.ebbbde3e6b76a96a3ab69c80b3a0192ac356e41ff827a9d7bb6518b5547b9804.tfidf_vectorizer.joblib\n"
     ]
    },
    {
     "name": "stderr",
     "output_type": "stream",
     "text": [
      "/home/ik18445/miniconda3/envs/epigraphdb_neural_processing/lib/python3.7/site-packages/sklearn/base.py:315: UserWarning: Trying to unpickle estimator TfidfTransformer from version 0.22.2.post1 when using version 0.24.2. This might lead to breaking code or invalid results. Use at your own risk.\n",
      "  UserWarning)\n",
      "/home/ik18445/miniconda3/envs/epigraphdb_neural_processing/lib/python3.7/site-packages/sklearn/base.py:315: UserWarning: Trying to unpickle estimator TfidfVectorizer from version 0.22.2.post1 when using version 0.24.2. This might lead to breaking code or invalid results. Use at your own risk.\n",
      "  UserWarning)\n"
     ]
    },
    {
     "name": "stdout",
     "output_type": "stream",
     "text": [
      "https://ai2-s2-scispacy.s3-us-west-2.amazonaws.com/data/linkers/2020-10-09/mesh/concept_aliases.json not found in cache, downloading to /tmp/tmpvpms8hxw\n",
      "Finished download, copying /tmp/tmpvpms8hxw to cache at /home/ik18445/.scispacy/datasets/1a5445257d097c1d2a9eba040029329993377ebc82785ee9ad18ed2b86f7fc7d.bc94249222c42b975a55db3a2b6f7badffe87b809e02f16907fca650f787f2f3.concept_aliases.json\n",
      "https://ai2-s2-scispacy.s3-us-west-2.amazonaws.com/data/kbs/2020-10-09/mesh_2020.jsonl not found in cache, downloading to /tmp/tmpphadmaf7\n",
      "Finished download, copying /tmp/tmpphadmaf7 to cache at /home/ik18445/.scispacy/datasets/648519b1485bf557749c97c175af1d86f89ed7674bb93e4b51148e2df415b72f.aa95b0492040d1386799638de559a625798ede06bc23e9b77166500fab9903d0.mesh_2020.jsonl\n"
     ]
    },
    {
     "data": {
      "text/plain": [
       "<scispacy.linking.EntityLinker at 0x7facea99fb10>"
      ]
     },
     "execution_count": 7,
     "metadata": {},
     "output_type": "execute_result"
    }
   ],
   "source": [
    "nlp.add_pipe(\n",
    "    \"scispacy_linker\", config={\"resolve_abbreviations\": True, \"linker_name\": \"mesh\"}\n",
    ")"
   ]
  },
  {
   "cell_type": "code",
   "execution_count": 8,
   "metadata": {},
   "outputs": [
    {
     "name": "stderr",
     "output_type": "stream",
     "text": [
      "/home/ik18445/miniconda3/envs/epigraphdb_neural_processing/lib/python3.7/site-packages/scispacy/candidate_generation.py:284: VisibleDeprecationWarning: Creating an ndarray from ragged nested sequences (which is a list-or-tuple of lists-or-tuples-or ndarrays with different lengths or shapes) is deprecated. If you meant to do this, you must specify 'dtype=object' when creating the ndarray\n",
      "  extended_neighbors[empty_vectors_boolean_flags] = numpy.array(neighbors)[:-1]\n",
      "/home/ik18445/miniconda3/envs/epigraphdb_neural_processing/lib/python3.7/site-packages/scispacy/candidate_generation.py:285: VisibleDeprecationWarning: Creating an ndarray from ragged nested sequences (which is a list-or-tuple of lists-or-tuples-or ndarrays with different lengths or shapes) is deprecated. If you meant to do this, you must specify 'dtype=object' when creating the ndarray\n",
      "  extended_distances[empty_vectors_boolean_flags] = numpy.array(distances)[:-1]\n"
     ]
    }
   ],
   "source": [
    "text = \"Spinal and bulbar muscular atrophy (SBMA) is an \\\n",
    "           inherited motor neuron disease caused by the expansion \\\n",
    "           of a polyglutamine tract within the androgen receptor (AR). \\\n",
    "           SBMA can be caused by this easily.\"\n",
    "doc = nlp(text)"
   ]
  },
  {
   "cell_type": "code",
   "execution_count": 9,
   "metadata": {},
   "outputs": [
    {
     "data": {
      "text/plain": [
       "(Spinal,\n",
       " bulbar muscular atrophy,\n",
       " SBMA,\n",
       " inherited,\n",
       " motor neuron disease,\n",
       " expansion,\n",
       " polyglutamine tract,\n",
       " androgen receptor,\n",
       " AR,\n",
       " SBMA)"
      ]
     },
     "execution_count": 9,
     "metadata": {},
     "output_type": "execute_result"
    }
   ],
   "source": [
    "doc.ents"
   ]
  },
  {
   "cell_type": "code",
   "execution_count": 11,
   "metadata": {},
   "outputs": [
    {
     "name": "stderr",
     "output_type": "stream",
     "text": [
      "ic| ent: bulbar muscular atrophy\n"
     ]
    },
    {
     "data": {
      "text/plain": [
       "bulbar muscular atrophy"
      ]
     },
     "execution_count": 11,
     "metadata": {},
     "output_type": "execute_result"
    }
   ],
   "source": [
    "ent = doc.ents[1]\n",
    "ic(ent)"
   ]
  },
  {
   "cell_type": "markdown",
   "metadata": {},
   "source": [
    "entity linker https://github.com/allenai/scispacy#entitylinker"
   ]
  },
  {
   "cell_type": "markdown",
   "metadata": {},
   "source": [
    "```\n",
    "You may want to play around with some of the parameters below to adapt to your use case (higher precision, higher recall etc).\n",
    "\n",
    "- resolve_abbreviations : bool = True, optional (default = False) Whether to resolve abbreviations identified in the Doc before performing linking. This parameter has no effect if there is no AbbreviationDetector in the spacy pipeline.\n",
    "- k : int, optional, (default = 30) The number of nearest neighbours to look up from the candidate generator per mention.\n",
    "- threshold : float, optional, (default = 0.7) The threshold that a mention candidate must reach to be added to the mention in the Doc as a mention candidate.\n",
    "- no_definition_threshold : float, optional, (default = 0.95) The threshold that a entity candidate must reach to be added to the mention in the Doc as a mention candidate if the entity candidate does not have a definition.\n",
    "- filter_for_definitions: bool, default = True Whether to filter entities that can be returned to only include those with definitions in the knowledge base.\n",
    "- max_entities_per_mention : int, optional, default = 5 The maximum number of entities which will be returned for a given mention, regardless of how many are nearest neighbours are found.\n",
    "\n",
    "```"
   ]
  },
  {
   "cell_type": "code",
   "execution_count": 16,
   "metadata": {},
   "outputs": [],
   "source": [
    "linker = nlp.get_pipe(\"scispacy_linker\")"
   ]
  },
  {
   "cell_type": "code",
   "execution_count": 17,
   "metadata": {},
   "outputs": [
    {
     "name": "stderr",
     "output_type": "stream",
     "text": [
      "ic| doc.ents: (Spinal,\n",
      "               bulbar muscular atrophy,\n",
      "               SBMA,\n",
      "               inherited,\n",
      "               motor neuron disease,\n",
      "               expansion,\n",
      "               polyglutamine tract,\n",
      "               androgen receptor,\n",
      "               AR,\n",
      "               SBMA)\n",
      "ic| kb_ents: [('D013115', 0.8134834170341492),\n",
      "              ('D013116', 0.7203251719474792),\n",
      "              ('D013131', 0.7041155695915222)]\n",
      "ic| kb_ents: [('D055534', 0.8877155780792236), ('D009133', 0.7831265330314636)]\n",
      "ic| kb_ents: []\n",
      "ic| kb_ents: [('D000080984', 0.711988091468811),\n",
      "              ('D000072741', 0.7039080858230591),\n",
      "              ('D000072740', 0.7036259770393372)]\n",
      "ic| kb_ents: [('D016472', 1.0), ('D009046', 0.7299341559410095)]\n",
      "ic| kb_ents: [('D055164', 0.8359338045120239),\n",
      "              ('D015626', 0.7525939345359802),\n",
      "              ('D010155', 0.7025658488273621)]\n",
      "ic| kb_ents: [('D011099', 0.7301585674285889)]\n",
      "ic| kb_ents: [('D011944', 1.0),\n",
      "              ('D000728', 0.7479557394981384),\n",
      "              ('D059002', 0.7283743023872375),\n",
      "              ('D013734', 0.7210328578948975)]\n",
      "ic| kb_ents: []\n",
      "ic| kb_ents: []\n"
     ]
    },
    {
     "name": "stdout",
     "output_type": "stream",
     "text": [
      "# ent Spinal\n",
      "## kb_ent D013115, score 0.8134834170341492\n",
      "CUI: D013115, Name: Spinal Canal\n",
      "Definition: The cavity within the SPINAL COLUMN through which the SPINAL CORD passes.\n",
      "TUI(s): \n",
      "Aliases: (total: 1): \n",
      "\t Spinal Canal\n",
      "\n",
      "\n",
      "## kb_ent D013116, score 0.7203251719474792\n",
      "CUI: D013116, Name: Spinal Cord\n",
      "Definition: A cylindrical column of tissue that lies within the vertebral canal. It is composed of WHITE MATTER and GRAY MATTER.\n",
      "TUI(s): \n",
      "Aliases: (total: 9): \n",
      "\t Spinal Cord, Conus Medullaris, Sacral Cord, Coccygeal Cord, Medulla Spinalis, Thoracic Cord, Myelon, Conus Terminalis, Lumbar Cord\n",
      "\n",
      "\n",
      "## kb_ent D013131, score 0.7041155695915222\n",
      "CUI: D013131, Name: Spine\n",
      "Definition: The spinal or vertebral column.\n",
      "TUI(s): \n",
      "Aliases: (total: 5): \n",
      "\t Vertebral Column, Vertebra, Vertebrae, Spinal Column, Spine\n",
      "\n",
      "\n",
      "\n",
      "--------\n",
      "\n",
      "# ent bulbar muscular atrophy\n",
      "## kb_ent D055534, score 0.8877155780792236\n",
      "CUI: D055534, Name: Bulbo-Spinal Atrophy, X-Linked\n",
      "Definition: An X-linked recessive form of spinal muscular atrophy. It is due to a mutation of the gene encoding the ANDROGEN RECEPTOR.\n",
      "TUI(s): \n",
      "Aliases (abbreviated, total: 14): \n",
      "\t Kennedy Syndrome, X-Linked Bulbo-Spinal Atrophy, Bulbospinal Muscular Atrophy, X-linked, Bulbo-Spinal Atrophy, X-Linked, Kennedy Disease, X-linked Bulbospinal Muscular Atrophy, Spinal and Bulbar Muscular Atrophy, Kennedy's Disease, Kennedy Spinal and Bulbar Muscular Atrophy, Spinal And Bulbar Muscular Atrophy, X-Linked 1\n",
      "\n",
      "\n",
      "## kb_ent D009133, score 0.7831265330314636\n",
      "CUI: D009133, Name: Muscular Atrophy\n",
      "Definition: Derangement in size and number of muscle fibers occurring with aging, reduction in blood supply, or following immobilization, prolonged weightlessness, malnutrition, and particularly in denervation.\n",
      "TUI(s): \n",
      "Aliases: (total: 4): \n",
      "\t Atrophy, Muscle, Neurogenic Muscular Atrophy, Neurotrophic Muscular Atrophy, Muscular Atrophy\n",
      "\n",
      "\n",
      "\n",
      "--------\n",
      "\n",
      "# ent SBMA\n",
      "\n",
      "--------\n",
      "\n",
      "# ent inherited\n",
      "## kb_ent D000080984, score 0.711988091468811\n",
      "CUI: D000080984, Name: Congenital Bone Marrow Failure Syndromes\n",
      "Definition: Inherited syndromes characterized by deficiency or absence of various blood cells due to mutations that affect HEMATOPOIETIC STEM CELLS development and proliferation.\n",
      "TUI(s): \n",
      "Aliases: (total: 7): \n",
      "\t Bone Marrow Failure Syndromes, Congenital, IBMFS, Inherited BMF Syndromes, Congenital Bone Marrow Failure Syndromes, Inherited Bone Marrow Failure Syndromes, CBMFS, Bone Marrow Failure Syndromes, Inherited\n",
      "\n",
      "\n",
      "## kb_ent D000072741, score 0.7039080858230591\n",
      "CUI: D000072741, Name: Maternal Inheritance\n",
      "Definition: Transmission of genetic characters, qualities, and traits, solely from maternal extra-nuclear elements such as MITOCHONDRIAL DNA or MATERNAL MESSENGER RNA.\n",
      "TUI(s): \n",
      "Aliases: (total: 4): \n",
      "\t Maternal Effect, Inherited Maternally, Maternal Inheritance, Maternally Inherited\n",
      "\n",
      "\n",
      "## kb_ent D000072740, score 0.7036259770393372\n",
      "CUI: D000072740, Name: Paternal Inheritance\n",
      "Definition: A form of inheritance where the traits of the offspring are paternal in origin due to the expression of extra-nuclear genetic material such as MITOCHONDRIAL DNA or Y chromosome genes. CENTRIOLES are also paternally inherited.\n",
      "TUI(s): \n",
      "Aliases: (total: 4): \n",
      "\t Paternally Inherited, Paternal Effect, Paternal Inheritance, Inherited Paternally\n",
      "\n",
      "\n",
      "\n",
      "--------\n",
      "\n",
      "# ent motor neuron disease\n",
      "## kb_ent D016472, score 1.0\n",
      "CUI: D016472, Name: Motor Neuron Disease\n",
      "Definition: Diseases characterized by a selective degeneration of the motor neurons of the spinal cord, brainstem, or motor cortex. Clinical subtypes are distinguished by the major site of degeneration. In AMYOTROPHIC LATERAL SCLEROSIS there is involvement of upper, lower, and brainstem motor neurons. In progressive muscular atrophy and related syndromes (see MUSCULAR ATROPHY, SPINAL) the motor neurons in the spinal cord are primarily affected. With progressive bulbar palsy (BULBAR PALSY, PROGRESSIVE), the initial degeneration occurs in the brainstem. In primary lateral sclerosis, the cortical neurons are affected in isolation. (Adams et al., Principles of Neurology, 6th ed, p1089)\n",
      "TUI(s): \n",
      "Aliases (abbreviated, total: 13): \n",
      "\t Motor Neuron Disease, Motor Neuron Disease, Familial, Motor Neuron Disease, Secondary, Secondary Motor Neuron Disease, Motor Neuron Disease, Lower, Lower Motor Neuron Disease, Motor Neuron Disease, Upper, Anterior Horn Cell Disease, Primary Lateral Sclerosis, Familial Motor Neuron Disease\n",
      "\n",
      "\n",
      "## kb_ent D009046, score 0.7299341559410095\n",
      "CUI: D009046, Name: Motor Neurons\n",
      "Definition: Neurons which activate MUSCLE CELLS.\n",
      "TUI(s): \n",
      "Aliases: (total: 6): \n",
      "\t Alpha Motorneurons, Neurons, Motor, Motor Neurons, Alpha, Neurons, Alpha Motor, Motoneurons, Motor Neurons\n",
      "\n",
      "\n",
      "\n",
      "--------\n",
      "\n",
      "# ent expansion\n",
      "## kb_ent D055164, score 0.8359338045120239\n",
      "CUI: D055164, Name: Nerve Expansion\n",
      "Definition: Procedures that stimulate nerve elongation over a period of time. They are used in repairing nerve tissue.\n",
      "TUI(s): \n",
      "Aliases: (total: 4): \n",
      "\t Nerve Lengthening, Nerve Expansion, Nerve Elongation Procedures, Nerve Stretching\n",
      "\n",
      "\n",
      "## kb_ent D015626, score 0.7525939345359802\n",
      "CUI: D015626, Name: Tissue Expansion\n",
      "Definition: A procedure whereby the body is stimulated to generate extra soft tissue by the application of stretching forces that stimulate new growth of tissue which, over a period of time, results in a 2-dimensional expansion of the tissue. The procedure is used in reconstructive surgery for injuries caused by trauma, burns, or ablative surgery. Various types of TISSUE EXPANSION DEVICES have been developed that exert stretching forces.\n",
      "TUI(s): \n",
      "Aliases: (total: 1): \n",
      "\t Tissue Expansion\n",
      "\n",
      "\n",
      "## kb_ent D010155, score 0.7025658488273621\n",
      "CUI: D010155, Name: Palatal Expansion Technique\n",
      "Definition: An orthodontic method used for correcting narrow or collapsed maxillary arches and functional cross-bite. (From Jablonski's Dictionary of Dentistry),\n",
      "TUI(s): \n",
      "Aliases: (total: 3): \n",
      "\t Maxillary Expansion, Palatal Expansion Technic, Palatal Expansion Technique\n",
      "\n",
      "\n",
      "\n",
      "--------\n",
      "\n",
      "# ent polyglutamine tract\n",
      "## kb_ent D011099, score 0.7301585674285889\n",
      "CUI: D011099, Name: Polyglutamic Acid\n",
      "Definition: A peptide that is a homopolymer of glutamic acid.\n",
      "TUI(s): \n",
      "Aliases: (total: 2): \n",
      "\t Polyglutamic Acid, Polyglutamate\n",
      "\n",
      "\n",
      "\n",
      "--------\n",
      "\n",
      "# ent androgen receptor\n",
      "## kb_ent D011944, score 1.0\n",
      "CUI: D011944, Name: Receptors, Androgen\n",
      "Definition: Proteins, generally found in the CYTOPLASM, that specifically bind ANDROGENS and mediate their cellular actions. The complex of the androgen and receptor migrates to the CELL NUCLEUS where it induces transcription of specific segments of DNA.\n",
      "TUI(s): \n",
      "Aliases (abbreviated, total: 11): \n",
      "\t Receptors, Androgen, Stanolone Receptor, 5 alpha-Dihydrotestosterone Receptor, Receptors, Dihydrotestosterone, Dihydrotestosterone Receptors, Receptor, Testosterone, Testosterone Receptor, Androgen Receptors, Androgen Receptor, Receptors, Androgens\n",
      "\n",
      "\n",
      "## kb_ent D000728, score 0.7479557394981384\n",
      "CUI: D000728, Name: Androgens\n",
      "Definition: Compounds that interact with ANDROGEN RECEPTORS in target tissues to bring about the effects similar to those of TESTOSTERONE. Depending on the target tissues, androgenic effects can be on SEX DIFFERENTIATION; male reproductive organs, SPERMATOGENESIS; secondary male SEX CHARACTERISTICS; LIBIDO; development of muscle mass, strength, and power.\n",
      "TUI(s): \n",
      "Aliases: (total: 6): \n",
      "\t Androgenic Compounds, Androgenic Agents, Androgen Effects, Androgen Effect, Androgens, Androgen Receptor Agonists\n",
      "\n",
      "\n",
      "## kb_ent D059002, score 0.7283743023872375\n",
      "CUI: D059002, Name: Androgen Receptor Antagonists\n",
      "Definition: Compounds that bind to and inhibit the activation of ANDROGEN RECEPTORS.\n",
      "TUI(s): \n",
      "Aliases: (total: 1): \n",
      "\t Androgen Receptor Antagonists\n",
      "\n",
      "\n",
      "## kb_ent D013734, score 0.7210328578948975\n",
      "CUI: D013734, Name: Androgen-Insensitivity Syndrome\n",
      "Definition: A disorder also known as partial androgen insensitivity syndrome (PAIS). These patients exhibit partial resistance to androgenic and metabolic effects of TESTOSTERONE.\n",
      "TUI(s): \n",
      "Aliases (abbreviated, total: 15): \n",
      "\t Androgen-Insensitivity Syndrome, Partial, Androgen Insensitivity, Partial, Testicular Feminization Syndrome, Reifenstein's Syndrome, Androgen Insensitivity Syndrome, Androgen Resistance Syndrome, Testicular Feminization, Dihydrotestosterone Receptor Deficiency, Reifenstein Syndrome, Male Pseudohermaphroditism Due to Androgen Insensitivity\n",
      "\n",
      "\n",
      "\n",
      "--------\n",
      "\n",
      "# ent AR\n",
      "\n",
      "--------\n",
      "\n",
      "# ent SBMA\n",
      "\n",
      "--------\n",
      "\n"
     ]
    }
   ],
   "source": [
    "# score is char-3gram matching\n",
    "ic(doc.ents)\n",
    "for ent in doc.ents:\n",
    "    print(f\"# ent {ent}\")\n",
    "    kb_ents = ent._.kb_ents\n",
    "    ic(kb_ents)\n",
    "    for kb_ent, score in kb_ents:\n",
    "        print(f\"## kb_ent {kb_ent}, score {score}\")\n",
    "        print(linker.kb.cui_to_entity[kb_ent])\n",
    "        print(\"\\n\")\n",
    "    print(\"\\n--------\\n\")"
   ]
  }
 ],
 "metadata": {
  "kernelspec": {
   "display_name": "Python 3",
   "language": "python",
   "name": "python3"
  },
  "language_info": {
   "codemirror_mode": {
    "name": "ipython",
    "version": 3
   },
   "file_extension": ".py",
   "mimetype": "text/x-python",
   "name": "python",
   "nbconvert_exporter": "python",
   "pygments_lexer": "ipython3",
   "version": "3.7.9"
  }
 },
 "nbformat": 4,
 "nbformat_minor": 4
}

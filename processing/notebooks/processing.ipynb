{
 "cells": [
  {
   "cell_type": "code",
   "execution_count": 1,
   "metadata": {},
   "outputs": [],
   "source": [
    "%load_ext autoreload\n",
    "%autoreload 2"
   ]
  },
  {
   "cell_type": "code",
   "execution_count": 15,
   "metadata": {},
   "outputs": [],
   "source": [
    "%load_ext lab_black"
   ]
  },
  {
   "cell_type": "code",
   "execution_count": 2,
   "metadata": {},
   "outputs": [],
   "source": [
    "import sys\n",
    "sys.path.append(\"../\")"
   ]
  },
  {
   "cell_type": "code",
   "execution_count": 30,
   "metadata": {},
   "outputs": [],
   "source": [
    "from pprint import pprint\n",
    "\n",
    "import pandas as pd\n",
    "import spacy\n",
    "\n",
    "from resources import nlp_models"
   ]
  },
  {
   "cell_type": "markdown",
   "metadata": {},
   "source": [
    "---"
   ]
  },
  {
   "cell_type": "code",
   "execution_count": null,
   "metadata": {},
   "outputs": [],
   "source": [
    "# analyse doc components for a sample of docs"
   ]
  },
  {
   "cell_type": "code",
   "execution_count": 9,
   "metadata": {},
   "outputs": [],
   "source": [
    "nlp = nlp_models.scispacy_lg\n",
    "data_dir = nlp_models.data_dir"
   ]
  },
  {
   "cell_type": "code",
   "execution_count": 43,
   "metadata": {},
   "outputs": [],
   "source": [
    "data_path = data_dir / \"epigraphdb_ents\" / \"Gwas\" / \"ents.csv\"\n",
    "assert data_path.exists()\n",
    "df = pd.read_csv(data_path)\n",
    "\n",
    "sample_names = df[:20][\"name\"].tolist()"
   ]
  },
  {
   "cell_type": "code",
   "execution_count": 44,
   "metadata": {},
   "outputs": [],
   "source": [
    "interest_names = [\n",
    "    \"Body mass index (BMI)\",\n",
    "    \"body mass index (bmi)\",\n",
    "    \"years of schooling\",\n",
    "    \"coronary heart disease\",\n",
    "]"
   ]
  },
  {
   "cell_type": "code",
   "execution_count": 45,
   "metadata": {},
   "outputs": [],
   "source": [
    "names = interest_names + sample_names\n",
    "docs = [nlp(_) for _ in names]"
   ]
  },
  {
   "cell_type": "code",
   "execution_count": 46,
   "metadata": {},
   "outputs": [
    {
     "name": "stdout",
     "output_type": "stream",
     "text": [
      "0 Body mass index (BMI)\n",
      "[('Body', 'NN', 'NOUN'),\n",
      " ('mass', 'NN', 'NOUN'),\n",
      " ('index', 'NN', 'NOUN'),\n",
      " ('(', '-LRB-', 'PUNCT'),\n",
      " ('BMI', 'NN', 'NOUN'),\n",
      " (')', '-RRB-', 'PUNCT')]\n",
      "[('Body mass index', 'ENTITY'), ('BMI', 'ENTITY')]\n",
      "['body', 'mass', 'index', '(', 'bmi', ')']\n",
      "['body', 'mass', 'index', '(', 'bmi', ')']\n",
      "\n",
      "\n",
      "1 body mass index (bmi)\n",
      "[('body', 'NN', 'NOUN'),\n",
      " ('mass', 'NN', 'NOUN'),\n",
      " ('index', 'NN', 'NOUN'),\n",
      " ('(', '-LRB-', 'PUNCT'),\n",
      " ('bmi', 'NN', 'NOUN'),\n",
      " (')', '-RRB-', 'PUNCT')]\n",
      "[('body mass index', 'ENTITY')]\n",
      "['body', 'mass', 'index', '(', 'bmi', ')']\n",
      "['body', 'mass', 'index', '(', 'bmi', ')']\n",
      "\n",
      "\n",
      "2 years of schooling\n",
      "[('years', 'NNS', 'NOUN'), ('of', 'IN', 'ADP'), ('schooling', 'VBG', 'VERB')]\n",
      "[('years', 'ENTITY'), ('schooling', 'ENTITY')]\n",
      "['year', 'of', 'school']\n",
      "['years', 'of', 'schooling']\n",
      "\n",
      "\n",
      "3 coronary heart disease\n",
      "[('coronary', 'JJ', 'ADJ'), ('heart', 'NN', 'NOUN'), ('disease', 'NN', 'NOUN')]\n",
      "[('coronary heart disease', 'ENTITY')]\n",
      "['coronary', 'heart', 'disease']\n",
      "['coronary', 'heart', 'disease']\n",
      "\n",
      "\n",
      "4 frontotemporal dementia (TDP subtype)\n",
      "[('frontotemporal', 'JJ', 'ADJ'),\n",
      " ('dementia', 'NN', 'NOUN'),\n",
      " ('(', '-LRB-', 'PUNCT'),\n",
      " ('TDP', 'NN', 'NOUN'),\n",
      " ('subtype', 'NN', 'NOUN'),\n",
      " (')', '-RRB-', 'PUNCT')]\n",
      "[('frontotemporal dementia', 'ENTITY'),\n",
      " ('TDP', 'ENTITY'),\n",
      " ('subtype', 'ENTITY')]\n",
      "['frontotemporal', 'dementia', '(', 'tdp', 'subtype', ')']\n",
      "['frontotemporal', 'dementia', '(', 'tdp', 'subtype', ')']\n",
      "\n",
      "\n",
      "5 body mass index\n",
      "[('body', 'NN', 'NOUN'), ('mass', 'NN', 'NOUN'), ('index', 'NN', 'NOUN')]\n",
      "[('body mass index', 'ENTITY')]\n",
      "['body', 'mass', 'index']\n",
      "['body', 'mass', 'index']\n",
      "\n",
      "\n",
      "6 diastolic blood pressure\n",
      "[('diastolic', 'JJ', 'ADJ'),\n",
      " ('blood', 'NN', 'NOUN'),\n",
      " ('pressure', 'NN', 'NOUN')]\n",
      "[('diastolic blood pressure', 'ENTITY')]\n",
      "['diastolic', 'blood', 'pressure']\n",
      "['diastolic', 'blood', 'pressure']\n",
      "\n",
      "\n",
      "7 systolic blood pressure\n",
      "[('systolic', 'JJ', 'ADJ'), ('blood', 'NN', 'NOUN'), ('pressure', 'NN', 'NOUN')]\n",
      "[('systolic blood pressure', 'ENTITY')]\n",
      "['systolic', 'blood', 'pressure']\n",
      "['systolic', 'blood', 'pressure']\n",
      "\n",
      "\n",
      "8 C-Reactive protein level\n",
      "[('C-Reactive', 'JJ', 'ADJ'),\n",
      " ('protein', 'NN', 'NOUN'),\n",
      " ('level', 'NN', 'NOUN')]\n",
      "[('C-Reactive protein', 'ENTITY')]\n",
      "['c-reactive', 'protein', 'level']\n",
      "['c-reactive', 'protein', 'level']\n",
      "\n",
      "\n",
      "9 white blood cell count\n",
      "[('white', 'JJ', 'ADJ'),\n",
      " ('blood', 'NN', 'NOUN'),\n",
      " ('cell', 'NN', 'NOUN'),\n",
      " ('count', 'NN', 'NOUN')]\n",
      "[('white blood cell count', 'ENTITY')]\n",
      "['white', 'blood', 'cell', 'count']\n",
      "['white', 'blood', 'cell', 'count']\n",
      "\n",
      "\n",
      "10 neutrophil cell count\n",
      "[('neutrophil', 'NN', 'NOUN'), ('cell', 'NN', 'NOUN'), ('count', 'NN', 'NOUN')]\n",
      "[('neutrophil cell count', 'ENTITY')]\n",
      "['neutrophil', 'cell', 'count']\n",
      "['neutrophil', 'cell', 'count']\n",
      "\n",
      "\n",
      "11 monocyte cell count\n",
      "[('monocyte', 'NN', 'NOUN'), ('cell', 'NN', 'NOUN'), ('count', 'NN', 'NOUN')]\n",
      "[('monocyte cell count', 'ENTITY')]\n",
      "['monocyte', 'cell', 'count']\n",
      "['monocyte', 'cell', 'count']\n",
      "\n",
      "\n",
      "12 lymphocyte cell count\n",
      "[('lymphocyte', 'NN', 'NOUN'), ('cell', 'NN', 'NOUN'), ('count', 'NN', 'NOUN')]\n",
      "[('lymphocyte cell count', 'ENTITY')]\n",
      "['lymphocyte', 'cell', 'count']\n",
      "['lymphocyte', 'cell', 'count']\n",
      "\n",
      "\n",
      "13 eosinophil cell count\n",
      "[('eosinophil', 'NN', 'NOUN'), ('cell', 'NN', 'NOUN'), ('count', 'NN', 'NOUN')]\n",
      "[('eosinophil cell', 'ENTITY')]\n",
      "['eosinophil', 'cell', 'count']\n",
      "['eosinophil', 'cell', 'count']\n",
      "\n",
      "\n",
      "14 basophil cell count\n",
      "[('basophil', 'NN', 'NOUN'), ('cell', 'NN', 'NOUN'), ('count', 'NN', 'NOUN')]\n",
      "[('basophil cell', 'ENTITY')]\n",
      "['basophil', 'cell', 'count']\n",
      "['basophil', 'cell', 'count']\n",
      "\n",
      "\n",
      "15 Cigarettes per Day\n",
      "[('Cigarettes', 'NNS', 'NOUN'), ('per', 'IN', 'ADP'), ('Day', 'NNP', 'PROPN')]\n",
      "[('Cigarettes', 'ENTITY'), ('Day', 'ENTITY')]\n",
      "['cigarette', 'per', 'Day']\n",
      "['cigarettes', 'per', 'day']\n",
      "\n",
      "\n",
      "16 Age Of Smoking Initiation\n",
      "[('Age', 'NN', 'NOUN'),\n",
      " ('Of', 'IN', 'ADP'),\n",
      " ('Smoking', 'VBG', 'VERB'),\n",
      " ('Initiation', 'NN', 'NOUN')]\n",
      "[('Age', 'ENTITY'), ('Smoking', 'ENTITY'), ('Initiation', 'ENTITY')]\n",
      "['age', 'of', 'smoke', 'initiation']\n",
      "['age', 'of', 'smoking', 'initiation']\n",
      "\n",
      "\n",
      "17 Polypeptide N-acetylgalactosaminyltransferase 2\n",
      "[('Polypeptide', 'NN', 'NOUN'),\n",
      " ('N-acetylgalactosaminyltransferase', 'NN', 'NOUN'),\n",
      " ('2', 'CD', 'NUM')]\n",
      "[('Polypeptide N-acetylgalactosaminyltransferase 2', 'ENTITY')]\n",
      "['polypeptide', 'n-acetylgalactosaminyltransferase', '2']\n",
      "['polypeptide', 'n-acetylgalactosaminyltransferase', '2']\n",
      "\n",
      "\n",
      "18 ENSG00000255833\n",
      "[('ENSG00000255833', 'NN', 'NOUN')]\n",
      "[('ENSG00000255833', 'ENTITY')]\n",
      "['ensg00000255833']\n",
      "['ensg00000255833']\n",
      "\n",
      "\n",
      "19 ENSG00000122557\n",
      "[('ENSG00000122557', 'NN', 'NOUN')]\n",
      "[('ENSG00000122557', 'ENTITY')]\n",
      "['ensg00000122557']\n",
      "['ensg00000122557']\n",
      "\n",
      "\n",
      "20 a2009s rh S interm prim-Jensen area\n",
      "[('a2009s', 'NN', 'NOUN'),\n",
      " ('rh', 'NN', 'NOUN'),\n",
      " ('S', 'NN', 'NOUN'),\n",
      " ('interm', 'NN', 'NOUN'),\n",
      " ('prim-Jensen', 'JJ', 'ADJ'),\n",
      " ('area', 'NN', 'NOUN')]\n",
      "[('rh S interm', 'ENTITY'), ('prim-Jensen area', 'ENTITY')]\n",
      "['a2009s', 'rh', 's', 'interm', 'prim-jensen', 'area']\n",
      "['a2009s', 'rh', 's', 'interm', 'prim-jensen', 'area']\n",
      "\n",
      "\n",
      "21 ENSG00000224699\n",
      "[('ENSG00000224699', 'NN', 'NOUN')]\n",
      "[('ENSG00000224699', 'ENTITY')]\n",
      "['ensg00000224699']\n",
      "['ensg00000224699']\n",
      "\n",
      "\n",
      "22 Phenylalanine\n",
      "[('Phenylalanine', 'NN', 'NOUN')]\n",
      "[('Phenylalanine', 'ENTITY')]\n",
      "['phenylalanine']\n",
      "['phenylalanine']\n",
      "\n",
      "\n",
      "23 IL-17 RC\n",
      "[('IL-17', 'NN', 'NOUN'), ('RC', 'NN', 'NOUN')]\n",
      "[('IL-17', 'ENTITY'), ('RC', 'ENTITY')]\n",
      "['il-17', 'rc']\n",
      "['il-17', 'rc']\n",
      "\n",
      "\n"
     ]
    }
   ],
   "source": [
    "for idx, doc in enumerate(docs):\n",
    "    print(idx, doc.text)\n",
    "    pprint([(token.text, token.tag_, token.pos_) for token in doc])\n",
    "    pprint([(ent.text, ent.label_) for ent in doc.ents])\n",
    "    pprint([token.lemma_ for token in doc])\n",
    "    pprint([token.norm_ for token in doc])\n",
    "    print(\"\\n\")"
   ]
  },
  {
   "cell_type": "code",
   "execution_count": null,
   "metadata": {},
   "outputs": [],
   "source": []
  },
  {
   "cell_type": "markdown",
   "metadata": {},
   "source": [
    "---"
   ]
  },
  {
   "cell_type": "code",
   "execution_count": 28,
   "metadata": {},
   "outputs": [
    {
     "data": {
      "text/plain": [
       "0.936126322278719"
      ]
     },
     "execution_count": 28,
     "metadata": {},
     "output_type": "execute_result"
    }
   ],
   "source": [
    "nlp(\"Body mass index\").similarity(nlp(\"body mass index\"))"
   ]
  },
  {
   "cell_type": "code",
   "execution_count": 32,
   "metadata": {},
   "outputs": [
    {
     "data": {
      "text/plain": [
       "'adjective'"
      ]
     },
     "execution_count": 32,
     "metadata": {},
     "output_type": "execute_result"
    }
   ],
   "source": [
    "spacy.explain(\"JJ\")"
   ]
  }
 ],
 "metadata": {
  "kernelspec": {
   "display_name": "Python 3",
   "language": "python",
   "name": "python3"
  },
  "language_info": {
   "codemirror_mode": {
    "name": "ipython",
    "version": 3
   },
   "file_extension": ".py",
   "mimetype": "text/x-python",
   "name": "python",
   "nbconvert_exporter": "python",
   "pygments_lexer": "ipython3",
   "version": "3.7.9"
  }
 },
 "nbformat": 4,
 "nbformat_minor": 4
}

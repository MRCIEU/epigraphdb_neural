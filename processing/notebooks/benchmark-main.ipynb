{
 "cells": [
  {
   "cell_type": "code",
   "execution_count": 1,
   "metadata": {},
   "outputs": [],
   "source": [
    "%load_ext autoreload\n",
    "%load_ext lab_black\n",
    "%autoreload 2"
   ]
  },
  {
   "cell_type": "code",
   "execution_count": 2,
   "metadata": {},
   "outputs": [],
   "source": [
    "import sys\n",
    "\n",
    "sys.path.append(\"..\")"
   ]
  },
  {
   "cell_type": "markdown",
   "metadata": {},
   "source": [
    "---"
   ]
  },
  {
   "cell_type": "code",
   "execution_count": 3,
   "metadata": {},
   "outputs": [],
   "source": [
    "import json\n",
    "import pandas as pd\n",
    "import sklearn\n",
    "import numpy as np\n",
    "\n",
    "from funcs.utils import find_project_root\n",
    "\n",
    "from resources.nlp_models import load_scispacy_lg\n",
    "from scripts.clean_epigraphdb_ents import clean_text"
   ]
  },
  {
   "cell_type": "code",
   "execution_count": 4,
   "metadata": {},
   "outputs": [],
   "source": [
    "root = find_project_root()\n",
    "data_dir = root.parent / \"data\"\n",
    "assert data_dir.exists()\n",
    "ebi_dir = data_dir / \"gwas-catalog\"\n",
    "gwas_to_efo_path = ebi_dir / \"clean_gwas_to_efo.csv\"\n",
    "assert gwas_to_efo_path.exists()"
   ]
  },
  {
   "cell_type": "markdown",
   "metadata": {},
   "source": [
    "---"
   ]
  },
  {
   "cell_type": "markdown",
   "metadata": {},
   "source": [
    "# Encode"
   ]
  },
  {
   "cell_type": "code",
   "execution_count": 7,
   "metadata": {},
   "outputs": [
    {
     "name": "stderr",
     "output_type": "stream",
     "text": [
      "2021-06-10 15:05:05.800 | INFO     | funcs.utils:timed:35 - load_scispacy_lg finished in 0.23 mins.\n"
     ]
    }
   ],
   "source": [
    "nlp = load_scispacy_lg()"
   ]
  },
  {
   "cell_type": "code",
   "execution_count": 10,
   "metadata": {},
   "outputs": [
    {
     "name": "stdout",
     "output_type": "stream",
     "text": [
      "<class 'pandas.core.frame.DataFrame'>\n",
      "RangeIndex: 16871 entries, 0 to 16870\n",
      "Data columns (total 5 columns):\n",
      " #   Column           Non-Null Count  Dtype \n",
      "---  ------           --------------  ----- \n",
      " 0   gwas_name        16871 non-null  object\n",
      " 1   efo_name         16871 non-null  object\n",
      " 2   efo_id           16871 non-null  object\n",
      " 3   parent_efo_name  16871 non-null  object\n",
      " 4   parent_efo_id    16871 non-null  object\n",
      "dtypes: object(5)\n",
      "memory usage: 659.1+ KB\n",
      "None\n"
     ]
    },
    {
     "data": {
      "text/html": [
       "<div>\n",
       "<style scoped>\n",
       "    .dataframe tbody tr th:only-of-type {\n",
       "        vertical-align: middle;\n",
       "    }\n",
       "\n",
       "    .dataframe tbody tr th {\n",
       "        vertical-align: top;\n",
       "    }\n",
       "\n",
       "    .dataframe thead th {\n",
       "        text-align: right;\n",
       "    }\n",
       "</style>\n",
       "<table border=\"1\" class=\"dataframe\">\n",
       "  <thead>\n",
       "    <tr style=\"text-align: right;\">\n",
       "      <th></th>\n",
       "      <th>gwas_name</th>\n",
       "      <th>efo_name</th>\n",
       "      <th>efo_id</th>\n",
       "      <th>parent_efo_name</th>\n",
       "      <th>parent_efo_id</th>\n",
       "    </tr>\n",
       "  </thead>\n",
       "  <tbody>\n",
       "    <tr>\n",
       "      <th>0</th>\n",
       "      <td>Clubfoot</td>\n",
       "      <td>familial clubfoot with or without associated l...</td>\n",
       "      <td>http://www.orpha.net/ORDO/Orphanet_199315</td>\n",
       "      <td>Other disease</td>\n",
       "      <td>http://www.ebi.ac.uk/efo/EFO_0000408</td>\n",
       "    </tr>\n",
       "    <tr>\n",
       "      <th>1</th>\n",
       "      <td>Alcohol dependence or heroin dependence or met...</td>\n",
       "      <td>methamphetamine dependence</td>\n",
       "      <td>http://www.ebi.ac.uk/efo/EFO_0004701</td>\n",
       "      <td>Neurological disorder</td>\n",
       "      <td>http://www.ebi.ac.uk/efo/EFO_0000618</td>\n",
       "    </tr>\n",
       "    <tr>\n",
       "      <th>2</th>\n",
       "      <td>Methamphetamine dependence</td>\n",
       "      <td>methamphetamine dependence</td>\n",
       "      <td>http://www.ebi.ac.uk/efo/EFO_0004701</td>\n",
       "      <td>Neurological disorder</td>\n",
       "      <td>http://www.ebi.ac.uk/efo/EFO_0000618</td>\n",
       "    </tr>\n",
       "    <tr>\n",
       "      <th>3</th>\n",
       "      <td>Hypothyroidism</td>\n",
       "      <td>hypothyroidism</td>\n",
       "      <td>http://www.ebi.ac.uk/efo/EFO_0004705</td>\n",
       "      <td>Other disease</td>\n",
       "      <td>http://www.ebi.ac.uk/efo/EFO_0000408</td>\n",
       "    </tr>\n",
       "    <tr>\n",
       "      <th>4</th>\n",
       "      <td>Age at menopause</td>\n",
       "      <td>age at menopause</td>\n",
       "      <td>http://www.ebi.ac.uk/efo/EFO_0004704</td>\n",
       "      <td>Other measurement</td>\n",
       "      <td>http://www.ebi.ac.uk/efo/EFO_0001444</td>\n",
       "    </tr>\n",
       "  </tbody>\n",
       "</table>\n",
       "</div>"
      ],
      "text/plain": [
       "                                           gwas_name  \\\n",
       "0                                           Clubfoot   \n",
       "1  Alcohol dependence or heroin dependence or met...   \n",
       "2                         Methamphetamine dependence   \n",
       "3                                     Hypothyroidism   \n",
       "4                                   Age at menopause   \n",
       "\n",
       "                                            efo_name  \\\n",
       "0  familial clubfoot with or without associated l...   \n",
       "1                         methamphetamine dependence   \n",
       "2                         methamphetamine dependence   \n",
       "3                                     hypothyroidism   \n",
       "4                                   age at menopause   \n",
       "\n",
       "                                      efo_id        parent_efo_name  \\\n",
       "0  http://www.orpha.net/ORDO/Orphanet_199315          Other disease   \n",
       "1       http://www.ebi.ac.uk/efo/EFO_0004701  Neurological disorder   \n",
       "2       http://www.ebi.ac.uk/efo/EFO_0004701  Neurological disorder   \n",
       "3       http://www.ebi.ac.uk/efo/EFO_0004705          Other disease   \n",
       "4       http://www.ebi.ac.uk/efo/EFO_0004704      Other measurement   \n",
       "\n",
       "                          parent_efo_id  \n",
       "0  http://www.ebi.ac.uk/efo/EFO_0000408  \n",
       "1  http://www.ebi.ac.uk/efo/EFO_0000618  \n",
       "2  http://www.ebi.ac.uk/efo/EFO_0000618  \n",
       "3  http://www.ebi.ac.uk/efo/EFO_0000408  \n",
       "4  http://www.ebi.ac.uk/efo/EFO_0001444  "
      ]
     },
     "execution_count": 10,
     "metadata": {},
     "output_type": "execute_result"
    }
   ],
   "source": [
    "gwas_to_efo = pd.read_csv(gwas_to_efo_path)\n",
    "print(gwas_to_efo.info())\n",
    "gwas_to_efo.head()"
   ]
  },
  {
   "cell_type": "code",
   "execution_count": 19,
   "metadata": {},
   "outputs": [],
   "source": [
    "def encode(text: str, nlp_model) -> str:\n",
    "    doc = nlp_model(text)\n",
    "    if doc.vector is not None:\n",
    "        return doc.vector.tolist()\n",
    "    else:\n",
    "        return []"
   ]
  },
  {
   "cell_type": "code",
   "execution_count": 26,
   "metadata": {},
   "outputs": [
    {
     "name": "stdout",
     "output_type": "stream",
     "text": [
      "<class 'pandas.core.frame.DataFrame'>\n",
      "Int64Index: 13334 entries, 0 to 16870\n",
      "Data columns (total 3 columns):\n",
      " #   Column      Non-Null Count  Dtype \n",
      "---  ------      --------------  ----- \n",
      " 0   gwas_name   13334 non-null  object\n",
      " 1   clean_text  13334 non-null  object\n",
      " 2   vector      13334 non-null  object\n",
      "dtypes: object(3)\n",
      "memory usage: 416.7+ KB\n",
      "None\n",
      "CPU times: user 1min 52s, sys: 280 ms, total: 1min 52s\n",
      "Wall time: 1min 52s\n"
     ]
    },
    {
     "data": {
      "text/html": [
       "<div>\n",
       "<style scoped>\n",
       "    .dataframe tbody tr th:only-of-type {\n",
       "        vertical-align: middle;\n",
       "    }\n",
       "\n",
       "    .dataframe tbody tr th {\n",
       "        vertical-align: top;\n",
       "    }\n",
       "\n",
       "    .dataframe thead th {\n",
       "        text-align: right;\n",
       "    }\n",
       "</style>\n",
       "<table border=\"1\" class=\"dataframe\">\n",
       "  <thead>\n",
       "    <tr style=\"text-align: right;\">\n",
       "      <th></th>\n",
       "      <th>gwas_name</th>\n",
       "      <th>clean_text</th>\n",
       "      <th>vector</th>\n",
       "    </tr>\n",
       "  </thead>\n",
       "  <tbody>\n",
       "    <tr>\n",
       "      <th>0</th>\n",
       "      <td>Clubfoot</td>\n",
       "      <td>clubfoot</td>\n",
       "      <td>[-0.37584900856018066, 0.19428400695323944, -0...</td>\n",
       "    </tr>\n",
       "    <tr>\n",
       "      <th>1</th>\n",
       "      <td>Alcohol dependence or heroin dependence or met...</td>\n",
       "      <td>alcohol dependence or heroin dependence or met...</td>\n",
       "      <td>[-0.11215012520551682, -0.17538602650165558, 0...</td>\n",
       "    </tr>\n",
       "    <tr>\n",
       "      <th>2</th>\n",
       "      <td>Methamphetamine dependence</td>\n",
       "      <td>methamphetamine dependence</td>\n",
       "      <td>[-0.22024500370025635, -0.18752296268939972, 0...</td>\n",
       "    </tr>\n",
       "    <tr>\n",
       "      <th>3</th>\n",
       "      <td>Hypothyroidism</td>\n",
       "      <td>hypothyroidism</td>\n",
       "      <td>[-0.10238999873399734, 0.3485580086708069, 0.1...</td>\n",
       "    </tr>\n",
       "    <tr>\n",
       "      <th>4</th>\n",
       "      <td>Age at menopause</td>\n",
       "      <td>age at menopause</td>\n",
       "      <td>[-0.09575866907835007, -0.008548134006559849, ...</td>\n",
       "    </tr>\n",
       "  </tbody>\n",
       "</table>\n",
       "</div>"
      ],
      "text/plain": [
       "                                           gwas_name  \\\n",
       "0                                           Clubfoot   \n",
       "1  Alcohol dependence or heroin dependence or met...   \n",
       "2                         Methamphetamine dependence   \n",
       "3                                     Hypothyroidism   \n",
       "4                                   Age at menopause   \n",
       "\n",
       "                                          clean_text  \\\n",
       "0                                           clubfoot   \n",
       "1  alcohol dependence or heroin dependence or met...   \n",
       "2                         methamphetamine dependence   \n",
       "3                                     hypothyroidism   \n",
       "4                                   age at menopause   \n",
       "\n",
       "                                              vector  \n",
       "0  [-0.37584900856018066, 0.19428400695323944, -0...  \n",
       "1  [-0.11215012520551682, -0.17538602650165558, 0...  \n",
       "2  [-0.22024500370025635, -0.18752296268939972, 0...  \n",
       "3  [-0.10238999873399734, 0.3485580086708069, 0.1...  \n",
       "4  [-0.09575866907835007, -0.008548134006559849, ...  "
      ]
     },
     "execution_count": 26,
     "metadata": {},
     "output_type": "execute_result"
    }
   ],
   "source": [
    "%%time\n",
    "\n",
    "gwas_encodes = (\n",
    "    gwas_to_efo[[\"gwas_name\"]]\n",
    "    .drop_duplicates()\n",
    "    .assign(\n",
    "        clean_text=lambda df: df[\"gwas_name\"].apply(\n",
    "            lambda x: clean_text(x, nlp_model=nlp)\n",
    "        )\n",
    "    )\n",
    "    .assign(\n",
    "            vector=lambda df: df[\"clean_text\"].apply(lambda x: encode(x, nlp_model=nlp))\n",
    "        )\n",
    ")\n",
    "print(gwas_encodes.info())\n",
    "gwas_encodes.head()"
   ]
  },
  {
   "cell_type": "code",
   "execution_count": 27,
   "metadata": {},
   "outputs": [],
   "source": [
    "output_file = ebi_dir / \"gwas_encodes.csv.gz\"\n",
    "gwas_encodes.to_csv(output_file, index=False, compression=\"gzip\")"
   ]
  },
  {
   "cell_type": "code",
   "execution_count": 31,
   "metadata": {},
   "outputs": [
    {
     "name": "stdout",
     "output_type": "stream",
     "text": [
      "<class 'pandas.core.frame.DataFrame'>\n",
      "Int64Index: 2761 entries, 0 to 16869\n",
      "Data columns (total 4 columns):\n",
      " #   Column      Non-Null Count  Dtype \n",
      "---  ------      --------------  ----- \n",
      " 0   efo_id      2761 non-null   object\n",
      " 1   efo_name    2761 non-null   object\n",
      " 2   clean_text  2761 non-null   object\n",
      " 3   vector      2761 non-null   object\n",
      "dtypes: object(4)\n",
      "memory usage: 107.9+ KB\n",
      "None\n",
      "CPU times: user 21.2 s, sys: 104 ms, total: 21.3 s\n",
      "Wall time: 21.3 s\n"
     ]
    },
    {
     "data": {
      "text/html": [
       "<div>\n",
       "<style scoped>\n",
       "    .dataframe tbody tr th:only-of-type {\n",
       "        vertical-align: middle;\n",
       "    }\n",
       "\n",
       "    .dataframe tbody tr th {\n",
       "        vertical-align: top;\n",
       "    }\n",
       "\n",
       "    .dataframe thead th {\n",
       "        text-align: right;\n",
       "    }\n",
       "</style>\n",
       "<table border=\"1\" class=\"dataframe\">\n",
       "  <thead>\n",
       "    <tr style=\"text-align: right;\">\n",
       "      <th></th>\n",
       "      <th>efo_id</th>\n",
       "      <th>efo_name</th>\n",
       "      <th>clean_text</th>\n",
       "      <th>vector</th>\n",
       "    </tr>\n",
       "  </thead>\n",
       "  <tbody>\n",
       "    <tr>\n",
       "      <th>0</th>\n",
       "      <td>http://www.orpha.net/ORDO/Orphanet_199315</td>\n",
       "      <td>familial clubfoot with or without associated l...</td>\n",
       "      <td>familial clubfoot with or without associate lo...</td>\n",
       "      <td>[-0.02324697934091091, 0.004608644172549248, -...</td>\n",
       "    </tr>\n",
       "    <tr>\n",
       "      <th>1</th>\n",
       "      <td>http://www.ebi.ac.uk/efo/EFO_0004701</td>\n",
       "      <td>methamphetamine dependence</td>\n",
       "      <td>methamphetamine dependence</td>\n",
       "      <td>[-0.22024500370025635, -0.18752296268939972, 0...</td>\n",
       "    </tr>\n",
       "    <tr>\n",
       "      <th>3</th>\n",
       "      <td>http://www.ebi.ac.uk/efo/EFO_0004705</td>\n",
       "      <td>hypothyroidism</td>\n",
       "      <td>hypothyroidism</td>\n",
       "      <td>[-0.10238999873399734, 0.3485580086708069, 0.1...</td>\n",
       "    </tr>\n",
       "    <tr>\n",
       "      <th>4</th>\n",
       "      <td>http://www.ebi.ac.uk/efo/EFO_0004704</td>\n",
       "      <td>age at menopause</td>\n",
       "      <td>age at menopause</td>\n",
       "      <td>[-0.09575866907835007, -0.008548134006559849, ...</td>\n",
       "    </tr>\n",
       "    <tr>\n",
       "      <th>9</th>\n",
       "      <td>http://www.ebi.ac.uk/efo/EFO_0004703</td>\n",
       "      <td>age at menarche</td>\n",
       "      <td>age at menarche</td>\n",
       "      <td>[-0.12539799511432648, -0.04193533584475517, -...</td>\n",
       "    </tr>\n",
       "  </tbody>\n",
       "</table>\n",
       "</div>"
      ],
      "text/plain": [
       "                                      efo_id  \\\n",
       "0  http://www.orpha.net/ORDO/Orphanet_199315   \n",
       "1       http://www.ebi.ac.uk/efo/EFO_0004701   \n",
       "3       http://www.ebi.ac.uk/efo/EFO_0004705   \n",
       "4       http://www.ebi.ac.uk/efo/EFO_0004704   \n",
       "9       http://www.ebi.ac.uk/efo/EFO_0004703   \n",
       "\n",
       "                                            efo_name  \\\n",
       "0  familial clubfoot with or without associated l...   \n",
       "1                         methamphetamine dependence   \n",
       "3                                     hypothyroidism   \n",
       "4                                   age at menopause   \n",
       "9                                    age at menarche   \n",
       "\n",
       "                                          clean_text  \\\n",
       "0  familial clubfoot with or without associate lo...   \n",
       "1                         methamphetamine dependence   \n",
       "3                                     hypothyroidism   \n",
       "4                                   age at menopause   \n",
       "9                                    age at menarche   \n",
       "\n",
       "                                              vector  \n",
       "0  [-0.02324697934091091, 0.004608644172549248, -...  \n",
       "1  [-0.22024500370025635, -0.18752296268939972, 0...  \n",
       "3  [-0.10238999873399734, 0.3485580086708069, 0.1...  \n",
       "4  [-0.09575866907835007, -0.008548134006559849, ...  \n",
       "9  [-0.12539799511432648, -0.04193533584475517, -...  "
      ]
     },
     "execution_count": 31,
     "metadata": {},
     "output_type": "execute_result"
    }
   ],
   "source": [
    "%%time\n",
    "\n",
    "efo_encodes = (\n",
    "    gwas_to_efo[[\"efo_id\", \"efo_name\"]]\n",
    "    .drop_duplicates()\n",
    "    .assign(\n",
    "        clean_text=lambda df: df[\"efo_name\"].apply(\n",
    "            lambda x: clean_text(x, nlp_model=nlp)\n",
    "        )\n",
    "    )\n",
    "    .assign(\n",
    "            vector=lambda df: df[\"clean_text\"].apply(lambda x: encode(x, nlp_model=nlp))\n",
    "        )\n",
    ")\n",
    "print(efo_encodes.info())\n",
    "efo_encodes.head()"
   ]
  },
  {
   "cell_type": "code",
   "execution_count": 32,
   "metadata": {},
   "outputs": [],
   "source": [
    "output_file = ebi_dir / \"efo_encodes.csv.gz\"\n",
    "efo_encodes.to_csv(output_file, index=False, compression=\"gzip\")"
   ]
  },
  {
   "cell_type": "markdown",
   "metadata": {},
   "source": [
    "---"
   ]
  },
  {
   "cell_type": "markdown",
   "metadata": {},
   "source": [
    "# similarity score"
   ]
  },
  {
   "cell_type": "code",
   "execution_count": 47,
   "metadata": {},
   "outputs": [
    {
     "name": "stdout",
     "output_type": "stream",
     "text": [
      "(13334, 200)\n"
     ]
    }
   ],
   "source": [
    "gwas_arr = np.stack(np.array(gwas_encodes[\"vector\"].tolist()), axis=0)\n",
    "print(gwas_arr.shape)\n",
    "assert gwas_arr[0, :].tolist() == gwas_encodes[\"vector\"][0]"
   ]
  },
  {
   "cell_type": "code",
   "execution_count": 48,
   "metadata": {},
   "outputs": [
    {
     "name": "stdout",
     "output_type": "stream",
     "text": [
      "(2761, 200)\n"
     ]
    }
   ],
   "source": [
    "efo_arr = np.stack(np.array(efo_encodes[\"vector\"].tolist()), axis=0)\n",
    "print(efo_arr.shape)\n",
    "assert efo_arr[0, :].tolist() == efo_encodes[\"vector\"][0]"
   ]
  },
  {
   "cell_type": "code",
   "execution_count": 54,
   "metadata": {},
   "outputs": [],
   "source": [
    "from sklearn.metrics.pairwise import cosine_similarity\n",
    "from scipy.spatial.distance import cosine as cosine_distance"
   ]
  },
  {
   "cell_type": "code",
   "execution_count": 53,
   "metadata": {},
   "outputs": [
    {
     "name": "stdout",
     "output_type": "stream",
     "text": [
      "(13334, 2761)\n",
      "CPU times: user 4min 27s, sys: 12min 34s, total: 17min 1s\n",
      "Wall time: 31.4 s\n"
     ]
    }
   ],
   "source": [
    "%%time\n",
    "\n",
    "similarity_arr = cosine_similarity(gwas_arr, efo_arr)\n",
    "print(similarity_arr.shape)"
   ]
  },
  {
   "cell_type": "code",
   "execution_count": 56,
   "metadata": {},
   "outputs": [
    {
     "name": "stdout",
     "output_type": "stream",
     "text": [
      "0.5734677237334654\n",
      "0.5734677237334653\n"
     ]
    }
   ],
   "source": [
    "print(similarity_arr[0, 0])\n",
    "print(1 - cosine_distance(gwas_encodes[\"vector\"][0], efo_encodes[\"vector\"][0],))"
   ]
  },
  {
   "cell_type": "code",
   "execution_count": 57,
   "metadata": {},
   "outputs": [],
   "source": [
    "output_file = ebi_dir / \"similarity_arr.npy\"\n",
    "np.save(output_file, similarity_arr)"
   ]
  },
  {
   "cell_type": "markdown",
   "metadata": {},
   "source": [
    "---"
   ]
  },
  {
   "cell_type": "markdown",
   "metadata": {},
   "source": [
    "# eval"
   ]
  },
  {
   "cell_type": "code",
   "execution_count": 5,
   "metadata": {},
   "outputs": [],
   "source": [
    "gwas_encodes_path = ebi_dir / \"gwas_encodes.csv.gz\"\n",
    "efo_encodes_path = ebi_dir / \"efo_encodes.csv.gz\"\n",
    "gwas_to_efo_path = ebi_dir / \"clean_gwas_to_efo.csv\"\n",
    "similarity_arr_path = ebi_dir / \"similarity_arr.npy\""
   ]
  },
  {
   "cell_type": "code",
   "execution_count": 6,
   "metadata": {},
   "outputs": [
    {
     "name": "stdout",
     "output_type": "stream",
     "text": [
      "<class 'pandas.core.frame.DataFrame'>\n",
      "RangeIndex: 16871 entries, 0 to 16870\n",
      "Data columns (total 5 columns):\n",
      " #   Column           Non-Null Count  Dtype \n",
      "---  ------           --------------  ----- \n",
      " 0   gwas_name        16871 non-null  object\n",
      " 1   efo_name         16871 non-null  object\n",
      " 2   efo_id           16871 non-null  object\n",
      " 3   parent_efo_name  16871 non-null  object\n",
      " 4   parent_efo_id    16871 non-null  object\n",
      "dtypes: object(5)\n",
      "memory usage: 659.1+ KB\n",
      "None\n"
     ]
    },
    {
     "data": {
      "text/html": [
       "<div>\n",
       "<style scoped>\n",
       "    .dataframe tbody tr th:only-of-type {\n",
       "        vertical-align: middle;\n",
       "    }\n",
       "\n",
       "    .dataframe tbody tr th {\n",
       "        vertical-align: top;\n",
       "    }\n",
       "\n",
       "    .dataframe thead th {\n",
       "        text-align: right;\n",
       "    }\n",
       "</style>\n",
       "<table border=\"1\" class=\"dataframe\">\n",
       "  <thead>\n",
       "    <tr style=\"text-align: right;\">\n",
       "      <th></th>\n",
       "      <th>gwas_name</th>\n",
       "      <th>efo_name</th>\n",
       "      <th>efo_id</th>\n",
       "      <th>parent_efo_name</th>\n",
       "      <th>parent_efo_id</th>\n",
       "    </tr>\n",
       "  </thead>\n",
       "  <tbody>\n",
       "    <tr>\n",
       "      <th>0</th>\n",
       "      <td>Clubfoot</td>\n",
       "      <td>familial clubfoot with or without associated l...</td>\n",
       "      <td>http://www.orpha.net/ORDO/Orphanet_199315</td>\n",
       "      <td>Other disease</td>\n",
       "      <td>http://www.ebi.ac.uk/efo/EFO_0000408</td>\n",
       "    </tr>\n",
       "    <tr>\n",
       "      <th>1</th>\n",
       "      <td>Alcohol dependence or heroin dependence or met...</td>\n",
       "      <td>methamphetamine dependence</td>\n",
       "      <td>http://www.ebi.ac.uk/efo/EFO_0004701</td>\n",
       "      <td>Neurological disorder</td>\n",
       "      <td>http://www.ebi.ac.uk/efo/EFO_0000618</td>\n",
       "    </tr>\n",
       "    <tr>\n",
       "      <th>2</th>\n",
       "      <td>Methamphetamine dependence</td>\n",
       "      <td>methamphetamine dependence</td>\n",
       "      <td>http://www.ebi.ac.uk/efo/EFO_0004701</td>\n",
       "      <td>Neurological disorder</td>\n",
       "      <td>http://www.ebi.ac.uk/efo/EFO_0000618</td>\n",
       "    </tr>\n",
       "    <tr>\n",
       "      <th>3</th>\n",
       "      <td>Hypothyroidism</td>\n",
       "      <td>hypothyroidism</td>\n",
       "      <td>http://www.ebi.ac.uk/efo/EFO_0004705</td>\n",
       "      <td>Other disease</td>\n",
       "      <td>http://www.ebi.ac.uk/efo/EFO_0000408</td>\n",
       "    </tr>\n",
       "    <tr>\n",
       "      <th>4</th>\n",
       "      <td>Age at menopause</td>\n",
       "      <td>age at menopause</td>\n",
       "      <td>http://www.ebi.ac.uk/efo/EFO_0004704</td>\n",
       "      <td>Other measurement</td>\n",
       "      <td>http://www.ebi.ac.uk/efo/EFO_0001444</td>\n",
       "    </tr>\n",
       "  </tbody>\n",
       "</table>\n",
       "</div>"
      ],
      "text/plain": [
       "                                           gwas_name  \\\n",
       "0                                           Clubfoot   \n",
       "1  Alcohol dependence or heroin dependence or met...   \n",
       "2                         Methamphetamine dependence   \n",
       "3                                     Hypothyroidism   \n",
       "4                                   Age at menopause   \n",
       "\n",
       "                                            efo_name  \\\n",
       "0  familial clubfoot with or without associated l...   \n",
       "1                         methamphetamine dependence   \n",
       "2                         methamphetamine dependence   \n",
       "3                                     hypothyroidism   \n",
       "4                                   age at menopause   \n",
       "\n",
       "                                      efo_id        parent_efo_name  \\\n",
       "0  http://www.orpha.net/ORDO/Orphanet_199315          Other disease   \n",
       "1       http://www.ebi.ac.uk/efo/EFO_0004701  Neurological disorder   \n",
       "2       http://www.ebi.ac.uk/efo/EFO_0004701  Neurological disorder   \n",
       "3       http://www.ebi.ac.uk/efo/EFO_0004705          Other disease   \n",
       "4       http://www.ebi.ac.uk/efo/EFO_0004704      Other measurement   \n",
       "\n",
       "                          parent_efo_id  \n",
       "0  http://www.ebi.ac.uk/efo/EFO_0000408  \n",
       "1  http://www.ebi.ac.uk/efo/EFO_0000618  \n",
       "2  http://www.ebi.ac.uk/efo/EFO_0000618  \n",
       "3  http://www.ebi.ac.uk/efo/EFO_0000408  \n",
       "4  http://www.ebi.ac.uk/efo/EFO_0001444  "
      ]
     },
     "execution_count": 6,
     "metadata": {},
     "output_type": "execute_result"
    }
   ],
   "source": [
    "gwas_to_efo = pd.read_csv(gwas_to_efo_path)\n",
    "print(gwas_to_efo.info())\n",
    "gwas_to_efo.head()"
   ]
  },
  {
   "cell_type": "code",
   "execution_count": 7,
   "metadata": {},
   "outputs": [
    {
     "name": "stdout",
     "output_type": "stream",
     "text": [
      "<class 'pandas.core.frame.DataFrame'>\n",
      "RangeIndex: 13334 entries, 0 to 13333\n",
      "Data columns (total 3 columns):\n",
      " #   Column      Non-Null Count  Dtype \n",
      "---  ------      --------------  ----- \n",
      " 0   gwas_name   13334 non-null  object\n",
      " 1   clean_text  13334 non-null  object\n",
      " 2   vector      13334 non-null  object\n",
      "dtypes: object(3)\n",
      "memory usage: 312.6+ KB\n",
      "None\n"
     ]
    },
    {
     "data": {
      "text/html": [
       "<div>\n",
       "<style scoped>\n",
       "    .dataframe tbody tr th:only-of-type {\n",
       "        vertical-align: middle;\n",
       "    }\n",
       "\n",
       "    .dataframe tbody tr th {\n",
       "        vertical-align: top;\n",
       "    }\n",
       "\n",
       "    .dataframe thead th {\n",
       "        text-align: right;\n",
       "    }\n",
       "</style>\n",
       "<table border=\"1\" class=\"dataframe\">\n",
       "  <thead>\n",
       "    <tr style=\"text-align: right;\">\n",
       "      <th></th>\n",
       "      <th>gwas_name</th>\n",
       "      <th>clean_text</th>\n",
       "      <th>vector</th>\n",
       "    </tr>\n",
       "  </thead>\n",
       "  <tbody>\n",
       "    <tr>\n",
       "      <th>0</th>\n",
       "      <td>Clubfoot</td>\n",
       "      <td>clubfoot</td>\n",
       "      <td>[-0.37584900856018066, 0.19428400695323944, -0...</td>\n",
       "    </tr>\n",
       "    <tr>\n",
       "      <th>1</th>\n",
       "      <td>Alcohol dependence or heroin dependence or met...</td>\n",
       "      <td>alcohol dependence or heroin dependence or met...</td>\n",
       "      <td>[-0.11215012520551682, -0.17538602650165558, 0...</td>\n",
       "    </tr>\n",
       "    <tr>\n",
       "      <th>2</th>\n",
       "      <td>Methamphetamine dependence</td>\n",
       "      <td>methamphetamine dependence</td>\n",
       "      <td>[-0.22024500370025635, -0.18752296268939972, 0...</td>\n",
       "    </tr>\n",
       "    <tr>\n",
       "      <th>3</th>\n",
       "      <td>Hypothyroidism</td>\n",
       "      <td>hypothyroidism</td>\n",
       "      <td>[-0.10238999873399734, 0.3485580086708069, 0.1...</td>\n",
       "    </tr>\n",
       "    <tr>\n",
       "      <th>4</th>\n",
       "      <td>Age at menopause</td>\n",
       "      <td>age at menopause</td>\n",
       "      <td>[-0.09575866907835007, -0.008548134006559849, ...</td>\n",
       "    </tr>\n",
       "  </tbody>\n",
       "</table>\n",
       "</div>"
      ],
      "text/plain": [
       "                                           gwas_name  \\\n",
       "0                                           Clubfoot   \n",
       "1  Alcohol dependence or heroin dependence or met...   \n",
       "2                         Methamphetamine dependence   \n",
       "3                                     Hypothyroidism   \n",
       "4                                   Age at menopause   \n",
       "\n",
       "                                          clean_text  \\\n",
       "0                                           clubfoot   \n",
       "1  alcohol dependence or heroin dependence or met...   \n",
       "2                         methamphetamine dependence   \n",
       "3                                     hypothyroidism   \n",
       "4                                   age at menopause   \n",
       "\n",
       "                                              vector  \n",
       "0  [-0.37584900856018066, 0.19428400695323944, -0...  \n",
       "1  [-0.11215012520551682, -0.17538602650165558, 0...  \n",
       "2  [-0.22024500370025635, -0.18752296268939972, 0...  \n",
       "3  [-0.10238999873399734, 0.3485580086708069, 0.1...  \n",
       "4  [-0.09575866907835007, -0.008548134006559849, ...  "
      ]
     },
     "execution_count": 7,
     "metadata": {},
     "output_type": "execute_result"
    }
   ],
   "source": [
    "gwas_encodes = pd.read_csv(gwas_encodes_path).assign(\n",
    "    vector=lambda df: df[\"vector\"].apply(json.loads)\n",
    ")\n",
    "print(gwas_encodes.info())\n",
    "gwas_encodes.head()"
   ]
  },
  {
   "cell_type": "code",
   "execution_count": 8,
   "metadata": {},
   "outputs": [
    {
     "name": "stdout",
     "output_type": "stream",
     "text": [
      "<class 'pandas.core.frame.DataFrame'>\n",
      "RangeIndex: 2761 entries, 0 to 2760\n",
      "Data columns (total 4 columns):\n",
      " #   Column      Non-Null Count  Dtype \n",
      "---  ------      --------------  ----- \n",
      " 0   efo_id      2761 non-null   object\n",
      " 1   efo_name    2761 non-null   object\n",
      " 2   clean_text  2761 non-null   object\n",
      " 3   vector      2761 non-null   object\n",
      "dtypes: object(4)\n",
      "memory usage: 86.4+ KB\n",
      "None\n"
     ]
    },
    {
     "data": {
      "text/html": [
       "<div>\n",
       "<style scoped>\n",
       "    .dataframe tbody tr th:only-of-type {\n",
       "        vertical-align: middle;\n",
       "    }\n",
       "\n",
       "    .dataframe tbody tr th {\n",
       "        vertical-align: top;\n",
       "    }\n",
       "\n",
       "    .dataframe thead th {\n",
       "        text-align: right;\n",
       "    }\n",
       "</style>\n",
       "<table border=\"1\" class=\"dataframe\">\n",
       "  <thead>\n",
       "    <tr style=\"text-align: right;\">\n",
       "      <th></th>\n",
       "      <th>efo_id</th>\n",
       "      <th>efo_name</th>\n",
       "      <th>clean_text</th>\n",
       "      <th>vector</th>\n",
       "    </tr>\n",
       "  </thead>\n",
       "  <tbody>\n",
       "    <tr>\n",
       "      <th>0</th>\n",
       "      <td>http://www.orpha.net/ORDO/Orphanet_199315</td>\n",
       "      <td>familial clubfoot with or without associated l...</td>\n",
       "      <td>familial clubfoot with or without associate lo...</td>\n",
       "      <td>[-0.02324697934091091, 0.004608644172549248, -...</td>\n",
       "    </tr>\n",
       "    <tr>\n",
       "      <th>1</th>\n",
       "      <td>http://www.ebi.ac.uk/efo/EFO_0004701</td>\n",
       "      <td>methamphetamine dependence</td>\n",
       "      <td>methamphetamine dependence</td>\n",
       "      <td>[-0.22024500370025635, -0.18752296268939972, 0...</td>\n",
       "    </tr>\n",
       "    <tr>\n",
       "      <th>2</th>\n",
       "      <td>http://www.ebi.ac.uk/efo/EFO_0004705</td>\n",
       "      <td>hypothyroidism</td>\n",
       "      <td>hypothyroidism</td>\n",
       "      <td>[-0.10238999873399734, 0.3485580086708069, 0.1...</td>\n",
       "    </tr>\n",
       "    <tr>\n",
       "      <th>3</th>\n",
       "      <td>http://www.ebi.ac.uk/efo/EFO_0004704</td>\n",
       "      <td>age at menopause</td>\n",
       "      <td>age at menopause</td>\n",
       "      <td>[-0.09575866907835007, -0.008548134006559849, ...</td>\n",
       "    </tr>\n",
       "    <tr>\n",
       "      <th>4</th>\n",
       "      <td>http://www.ebi.ac.uk/efo/EFO_0004703</td>\n",
       "      <td>age at menarche</td>\n",
       "      <td>age at menarche</td>\n",
       "      <td>[-0.12539799511432648, -0.04193533584475517, -...</td>\n",
       "    </tr>\n",
       "  </tbody>\n",
       "</table>\n",
       "</div>"
      ],
      "text/plain": [
       "                                      efo_id  \\\n",
       "0  http://www.orpha.net/ORDO/Orphanet_199315   \n",
       "1       http://www.ebi.ac.uk/efo/EFO_0004701   \n",
       "2       http://www.ebi.ac.uk/efo/EFO_0004705   \n",
       "3       http://www.ebi.ac.uk/efo/EFO_0004704   \n",
       "4       http://www.ebi.ac.uk/efo/EFO_0004703   \n",
       "\n",
       "                                            efo_name  \\\n",
       "0  familial clubfoot with or without associated l...   \n",
       "1                         methamphetamine dependence   \n",
       "2                                     hypothyroidism   \n",
       "3                                   age at menopause   \n",
       "4                                    age at menarche   \n",
       "\n",
       "                                          clean_text  \\\n",
       "0  familial clubfoot with or without associate lo...   \n",
       "1                         methamphetamine dependence   \n",
       "2                                     hypothyroidism   \n",
       "3                                   age at menopause   \n",
       "4                                    age at menarche   \n",
       "\n",
       "                                              vector  \n",
       "0  [-0.02324697934091091, 0.004608644172549248, -...  \n",
       "1  [-0.22024500370025635, -0.18752296268939972, 0...  \n",
       "2  [-0.10238999873399734, 0.3485580086708069, 0.1...  \n",
       "3  [-0.09575866907835007, -0.008548134006559849, ...  \n",
       "4  [-0.12539799511432648, -0.04193533584475517, -...  "
      ]
     },
     "execution_count": 8,
     "metadata": {},
     "output_type": "execute_result"
    }
   ],
   "source": [
    "efo_encodes = pd.read_csv(efo_encodes_path).assign(\n",
    "    vector=lambda df: df[\"vector\"].apply(json.loads)\n",
    ")\n",
    "print(efo_encodes.info())\n",
    "efo_encodes.head()"
   ]
  },
  {
   "cell_type": "code",
   "execution_count": 9,
   "metadata": {},
   "outputs": [],
   "source": [
    "similarity_arr = np.load(similarity_arr_path)"
   ]
  },
  {
   "cell_type": "code",
   "execution_count": 10,
   "metadata": {},
   "outputs": [
    {
     "data": {
      "text/plain": [
       "(13334, 2761)"
      ]
     },
     "execution_count": 10,
     "metadata": {},
     "output_type": "execute_result"
    }
   ],
   "source": [
    "similarity_arr.shape"
   ]
  },
  {
   "cell_type": "code",
   "execution_count": 11,
   "metadata": {},
   "outputs": [
    {
     "name": "stdout",
     "output_type": "stream",
     "text": [
      "[[ 0.57346772 -0.08321398  0.43528596 ...  0.14525737  0.25932941\n",
      "   0.06446416]\n",
      " [ 0.15219263  0.92250771  0.10776712 ...  0.02089715 -0.01034494\n",
      "   0.15754692]\n",
      " [ 0.00778261  1.          0.08975805 ...  0.03561883 -0.03105269\n",
      "   0.16007295]\n",
      " ...\n",
      " [ 0.11294115  0.07792424  0.21593123 ... -0.00859792 -0.07831833\n",
      "   0.03265154]\n",
      " [ 0.24552335  0.11146804  0.31138856 ...  0.15902792  0.08289844\n",
      "   0.16645138]\n",
      " [ 0.19952689  0.18990634  0.14023943 ...  0.1246996  -0.02603151\n",
      "   0.82895111]]\n"
     ]
    }
   ],
   "source": [
    "print(similarity_arr)"
   ]
  },
  {
   "cell_type": "code",
   "execution_count": 12,
   "metadata": {},
   "outputs": [],
   "source": [
    "# TODO: func that returns mapping"
   ]
  }
 ],
 "metadata": {
  "kernelspec": {
   "display_name": "Python 3",
   "language": "python",
   "name": "python3"
  },
  "language_info": {
   "codemirror_mode": {
    "name": "ipython",
    "version": 3
   },
   "file_extension": ".py",
   "mimetype": "text/x-python",
   "name": "python",
   "nbconvert_exporter": "python",
   "pygments_lexer": "ipython3",
   "version": "3.7.9"
  }
 },
 "nbformat": 4,
 "nbformat_minor": 4
}

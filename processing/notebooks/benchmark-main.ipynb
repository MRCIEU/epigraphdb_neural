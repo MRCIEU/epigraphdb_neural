{
 "cells": [
  {
   "cell_type": "code",
   "execution_count": 13,
   "metadata": {},
   "outputs": [
    {
     "name": "stdout",
     "output_type": "stream",
     "text": [
      "The autoreload extension is already loaded. To reload it, use:\n",
      "  %reload_ext autoreload\n",
      "The lab_black extension is already loaded. To reload it, use:\n",
      "  %reload_ext lab_black\n"
     ]
    }
   ],
   "source": [
    "%load_ext autoreload\n",
    "%load_ext lab_black\n",
    "%autoreload 2"
   ]
  },
  {
   "cell_type": "code",
   "execution_count": 2,
   "metadata": {},
   "outputs": [],
   "source": [
    "import sys\n",
    "\n",
    "sys.path.append(\"..\")"
   ]
  },
  {
   "cell_type": "markdown",
   "metadata": {},
   "source": [
    "---"
   ]
  },
  {
   "cell_type": "code",
   "execution_count": 50,
   "metadata": {},
   "outputs": [],
   "source": [
    "import json\n",
    "from functools import partial\n",
    "\n",
    "import pandas as pd\n",
    "import sklearn\n",
    "import numpy as np\n",
    "import seaborn as sns\n",
    "\n",
    "from funcs.utils import find_project_root\n",
    "\n",
    "from resources.nlp_models import load_scispacy_lg\n",
    "from scripts.clean_epigraphdb_ents import clean_text"
   ]
  },
  {
   "cell_type": "code",
   "execution_count": 4,
   "metadata": {},
   "outputs": [],
   "source": [
    "root = find_project_root()\n",
    "data_dir = root.parent / \"data\"\n",
    "assert data_dir.exists()\n",
    "ebi_dir = data_dir / \"gwas-catalog\"\n",
    "gwas_to_efo_path = ebi_dir / \"clean_gwas_to_efo.csv\"\n",
    "assert gwas_to_efo_path.exists()"
   ]
  },
  {
   "cell_type": "markdown",
   "metadata": {},
   "source": [
    "---"
   ]
  },
  {
   "cell_type": "markdown",
   "metadata": {},
   "source": [
    "# Encode"
   ]
  },
  {
   "cell_type": "code",
   "execution_count": 7,
   "metadata": {},
   "outputs": [
    {
     "name": "stderr",
     "output_type": "stream",
     "text": [
      "2021-06-10 15:05:05.800 | INFO     | funcs.utils:timed:35 - load_scispacy_lg finished in 0.23 mins.\n"
     ]
    }
   ],
   "source": [
    "nlp = load_scispacy_lg()"
   ]
  },
  {
   "cell_type": "code",
   "execution_count": 10,
   "metadata": {},
   "outputs": [
    {
     "name": "stdout",
     "output_type": "stream",
     "text": [
      "<class 'pandas.core.frame.DataFrame'>\n",
      "RangeIndex: 16871 entries, 0 to 16870\n",
      "Data columns (total 5 columns):\n",
      " #   Column           Non-Null Count  Dtype \n",
      "---  ------           --------------  ----- \n",
      " 0   gwas_name        16871 non-null  object\n",
      " 1   efo_name         16871 non-null  object\n",
      " 2   efo_id           16871 non-null  object\n",
      " 3   parent_efo_name  16871 non-null  object\n",
      " 4   parent_efo_id    16871 non-null  object\n",
      "dtypes: object(5)\n",
      "memory usage: 659.1+ KB\n",
      "None\n"
     ]
    },
    {
     "data": {
      "text/html": [
       "<div>\n",
       "<style scoped>\n",
       "    .dataframe tbody tr th:only-of-type {\n",
       "        vertical-align: middle;\n",
       "    }\n",
       "\n",
       "    .dataframe tbody tr th {\n",
       "        vertical-align: top;\n",
       "    }\n",
       "\n",
       "    .dataframe thead th {\n",
       "        text-align: right;\n",
       "    }\n",
       "</style>\n",
       "<table border=\"1\" class=\"dataframe\">\n",
       "  <thead>\n",
       "    <tr style=\"text-align: right;\">\n",
       "      <th></th>\n",
       "      <th>gwas_name</th>\n",
       "      <th>efo_name</th>\n",
       "      <th>efo_id</th>\n",
       "      <th>parent_efo_name</th>\n",
       "      <th>parent_efo_id</th>\n",
       "    </tr>\n",
       "  </thead>\n",
       "  <tbody>\n",
       "    <tr>\n",
       "      <th>0</th>\n",
       "      <td>Clubfoot</td>\n",
       "      <td>familial clubfoot with or without associated l...</td>\n",
       "      <td>http://www.orpha.net/ORDO/Orphanet_199315</td>\n",
       "      <td>Other disease</td>\n",
       "      <td>http://www.ebi.ac.uk/efo/EFO_0000408</td>\n",
       "    </tr>\n",
       "    <tr>\n",
       "      <th>1</th>\n",
       "      <td>Alcohol dependence or heroin dependence or met...</td>\n",
       "      <td>methamphetamine dependence</td>\n",
       "      <td>http://www.ebi.ac.uk/efo/EFO_0004701</td>\n",
       "      <td>Neurological disorder</td>\n",
       "      <td>http://www.ebi.ac.uk/efo/EFO_0000618</td>\n",
       "    </tr>\n",
       "    <tr>\n",
       "      <th>2</th>\n",
       "      <td>Methamphetamine dependence</td>\n",
       "      <td>methamphetamine dependence</td>\n",
       "      <td>http://www.ebi.ac.uk/efo/EFO_0004701</td>\n",
       "      <td>Neurological disorder</td>\n",
       "      <td>http://www.ebi.ac.uk/efo/EFO_0000618</td>\n",
       "    </tr>\n",
       "    <tr>\n",
       "      <th>3</th>\n",
       "      <td>Hypothyroidism</td>\n",
       "      <td>hypothyroidism</td>\n",
       "      <td>http://www.ebi.ac.uk/efo/EFO_0004705</td>\n",
       "      <td>Other disease</td>\n",
       "      <td>http://www.ebi.ac.uk/efo/EFO_0000408</td>\n",
       "    </tr>\n",
       "    <tr>\n",
       "      <th>4</th>\n",
       "      <td>Age at menopause</td>\n",
       "      <td>age at menopause</td>\n",
       "      <td>http://www.ebi.ac.uk/efo/EFO_0004704</td>\n",
       "      <td>Other measurement</td>\n",
       "      <td>http://www.ebi.ac.uk/efo/EFO_0001444</td>\n",
       "    </tr>\n",
       "  </tbody>\n",
       "</table>\n",
       "</div>"
      ],
      "text/plain": [
       "                                           gwas_name  \\\n",
       "0                                           Clubfoot   \n",
       "1  Alcohol dependence or heroin dependence or met...   \n",
       "2                         Methamphetamine dependence   \n",
       "3                                     Hypothyroidism   \n",
       "4                                   Age at menopause   \n",
       "\n",
       "                                            efo_name  \\\n",
       "0  familial clubfoot with or without associated l...   \n",
       "1                         methamphetamine dependence   \n",
       "2                         methamphetamine dependence   \n",
       "3                                     hypothyroidism   \n",
       "4                                   age at menopause   \n",
       "\n",
       "                                      efo_id        parent_efo_name  \\\n",
       "0  http://www.orpha.net/ORDO/Orphanet_199315          Other disease   \n",
       "1       http://www.ebi.ac.uk/efo/EFO_0004701  Neurological disorder   \n",
       "2       http://www.ebi.ac.uk/efo/EFO_0004701  Neurological disorder   \n",
       "3       http://www.ebi.ac.uk/efo/EFO_0004705          Other disease   \n",
       "4       http://www.ebi.ac.uk/efo/EFO_0004704      Other measurement   \n",
       "\n",
       "                          parent_efo_id  \n",
       "0  http://www.ebi.ac.uk/efo/EFO_0000408  \n",
       "1  http://www.ebi.ac.uk/efo/EFO_0000618  \n",
       "2  http://www.ebi.ac.uk/efo/EFO_0000618  \n",
       "3  http://www.ebi.ac.uk/efo/EFO_0000408  \n",
       "4  http://www.ebi.ac.uk/efo/EFO_0001444  "
      ]
     },
     "execution_count": 10,
     "metadata": {},
     "output_type": "execute_result"
    }
   ],
   "source": [
    "gwas_to_efo = pd.read_csv(gwas_to_efo_path)\n",
    "print(gwas_to_efo.info())\n",
    "gwas_to_efo.head()"
   ]
  },
  {
   "cell_type": "code",
   "execution_count": 19,
   "metadata": {},
   "outputs": [],
   "source": [
    "def encode(text: str, nlp_model) -> str:\n",
    "    doc = nlp_model(text)\n",
    "    if doc.vector is not None:\n",
    "        return doc.vector.tolist()\n",
    "    else:\n",
    "        return []"
   ]
  },
  {
   "cell_type": "code",
   "execution_count": 26,
   "metadata": {},
   "outputs": [
    {
     "name": "stdout",
     "output_type": "stream",
     "text": [
      "<class 'pandas.core.frame.DataFrame'>\n",
      "Int64Index: 13334 entries, 0 to 16870\n",
      "Data columns (total 3 columns):\n",
      " #   Column      Non-Null Count  Dtype \n",
      "---  ------      --------------  ----- \n",
      " 0   gwas_name   13334 non-null  object\n",
      " 1   clean_text  13334 non-null  object\n",
      " 2   vector      13334 non-null  object\n",
      "dtypes: object(3)\n",
      "memory usage: 416.7+ KB\n",
      "None\n",
      "CPU times: user 1min 52s, sys: 280 ms, total: 1min 52s\n",
      "Wall time: 1min 52s\n"
     ]
    },
    {
     "data": {
      "text/html": [
       "<div>\n",
       "<style scoped>\n",
       "    .dataframe tbody tr th:only-of-type {\n",
       "        vertical-align: middle;\n",
       "    }\n",
       "\n",
       "    .dataframe tbody tr th {\n",
       "        vertical-align: top;\n",
       "    }\n",
       "\n",
       "    .dataframe thead th {\n",
       "        text-align: right;\n",
       "    }\n",
       "</style>\n",
       "<table border=\"1\" class=\"dataframe\">\n",
       "  <thead>\n",
       "    <tr style=\"text-align: right;\">\n",
       "      <th></th>\n",
       "      <th>gwas_name</th>\n",
       "      <th>clean_text</th>\n",
       "      <th>vector</th>\n",
       "    </tr>\n",
       "  </thead>\n",
       "  <tbody>\n",
       "    <tr>\n",
       "      <th>0</th>\n",
       "      <td>Clubfoot</td>\n",
       "      <td>clubfoot</td>\n",
       "      <td>[-0.37584900856018066, 0.19428400695323944, -0...</td>\n",
       "    </tr>\n",
       "    <tr>\n",
       "      <th>1</th>\n",
       "      <td>Alcohol dependence or heroin dependence or met...</td>\n",
       "      <td>alcohol dependence or heroin dependence or met...</td>\n",
       "      <td>[-0.11215012520551682, -0.17538602650165558, 0...</td>\n",
       "    </tr>\n",
       "    <tr>\n",
       "      <th>2</th>\n",
       "      <td>Methamphetamine dependence</td>\n",
       "      <td>methamphetamine dependence</td>\n",
       "      <td>[-0.22024500370025635, -0.18752296268939972, 0...</td>\n",
       "    </tr>\n",
       "    <tr>\n",
       "      <th>3</th>\n",
       "      <td>Hypothyroidism</td>\n",
       "      <td>hypothyroidism</td>\n",
       "      <td>[-0.10238999873399734, 0.3485580086708069, 0.1...</td>\n",
       "    </tr>\n",
       "    <tr>\n",
       "      <th>4</th>\n",
       "      <td>Age at menopause</td>\n",
       "      <td>age at menopause</td>\n",
       "      <td>[-0.09575866907835007, -0.008548134006559849, ...</td>\n",
       "    </tr>\n",
       "  </tbody>\n",
       "</table>\n",
       "</div>"
      ],
      "text/plain": [
       "                                           gwas_name  \\\n",
       "0                                           Clubfoot   \n",
       "1  Alcohol dependence or heroin dependence or met...   \n",
       "2                         Methamphetamine dependence   \n",
       "3                                     Hypothyroidism   \n",
       "4                                   Age at menopause   \n",
       "\n",
       "                                          clean_text  \\\n",
       "0                                           clubfoot   \n",
       "1  alcohol dependence or heroin dependence or met...   \n",
       "2                         methamphetamine dependence   \n",
       "3                                     hypothyroidism   \n",
       "4                                   age at menopause   \n",
       "\n",
       "                                              vector  \n",
       "0  [-0.37584900856018066, 0.19428400695323944, -0...  \n",
       "1  [-0.11215012520551682, -0.17538602650165558, 0...  \n",
       "2  [-0.22024500370025635, -0.18752296268939972, 0...  \n",
       "3  [-0.10238999873399734, 0.3485580086708069, 0.1...  \n",
       "4  [-0.09575866907835007, -0.008548134006559849, ...  "
      ]
     },
     "execution_count": 26,
     "metadata": {},
     "output_type": "execute_result"
    }
   ],
   "source": [
    "%%time\n",
    "\n",
    "gwas_encodes = (\n",
    "    gwas_to_efo[[\"gwas_name\"]]\n",
    "    .drop_duplicates()\n",
    "    .assign(\n",
    "        clean_text=lambda df: df[\"gwas_name\"].apply(\n",
    "            lambda x: clean_text(x, nlp_model=nlp)\n",
    "        )\n",
    "    )\n",
    "    .assign(\n",
    "            vector=lambda df: df[\"clean_text\"].apply(lambda x: encode(x, nlp_model=nlp))\n",
    "        )\n",
    ")\n",
    "print(gwas_encodes.info())\n",
    "gwas_encodes.head()"
   ]
  },
  {
   "cell_type": "code",
   "execution_count": 27,
   "metadata": {},
   "outputs": [],
   "source": [
    "output_file = ebi_dir / \"gwas_encodes.csv.gz\"\n",
    "gwas_encodes.to_csv(output_file, index=False, compression=\"gzip\")"
   ]
  },
  {
   "cell_type": "code",
   "execution_count": 31,
   "metadata": {},
   "outputs": [
    {
     "name": "stdout",
     "output_type": "stream",
     "text": [
      "<class 'pandas.core.frame.DataFrame'>\n",
      "Int64Index: 2761 entries, 0 to 16869\n",
      "Data columns (total 4 columns):\n",
      " #   Column      Non-Null Count  Dtype \n",
      "---  ------      --------------  ----- \n",
      " 0   efo_id      2761 non-null   object\n",
      " 1   efo_name    2761 non-null   object\n",
      " 2   clean_text  2761 non-null   object\n",
      " 3   vector      2761 non-null   object\n",
      "dtypes: object(4)\n",
      "memory usage: 107.9+ KB\n",
      "None\n",
      "CPU times: user 21.2 s, sys: 104 ms, total: 21.3 s\n",
      "Wall time: 21.3 s\n"
     ]
    },
    {
     "data": {
      "text/html": [
       "<div>\n",
       "<style scoped>\n",
       "    .dataframe tbody tr th:only-of-type {\n",
       "        vertical-align: middle;\n",
       "    }\n",
       "\n",
       "    .dataframe tbody tr th {\n",
       "        vertical-align: top;\n",
       "    }\n",
       "\n",
       "    .dataframe thead th {\n",
       "        text-align: right;\n",
       "    }\n",
       "</style>\n",
       "<table border=\"1\" class=\"dataframe\">\n",
       "  <thead>\n",
       "    <tr style=\"text-align: right;\">\n",
       "      <th></th>\n",
       "      <th>efo_id</th>\n",
       "      <th>efo_name</th>\n",
       "      <th>clean_text</th>\n",
       "      <th>vector</th>\n",
       "    </tr>\n",
       "  </thead>\n",
       "  <tbody>\n",
       "    <tr>\n",
       "      <th>0</th>\n",
       "      <td>http://www.orpha.net/ORDO/Orphanet_199315</td>\n",
       "      <td>familial clubfoot with or without associated l...</td>\n",
       "      <td>familial clubfoot with or without associate lo...</td>\n",
       "      <td>[-0.02324697934091091, 0.004608644172549248, -...</td>\n",
       "    </tr>\n",
       "    <tr>\n",
       "      <th>1</th>\n",
       "      <td>http://www.ebi.ac.uk/efo/EFO_0004701</td>\n",
       "      <td>methamphetamine dependence</td>\n",
       "      <td>methamphetamine dependence</td>\n",
       "      <td>[-0.22024500370025635, -0.18752296268939972, 0...</td>\n",
       "    </tr>\n",
       "    <tr>\n",
       "      <th>3</th>\n",
       "      <td>http://www.ebi.ac.uk/efo/EFO_0004705</td>\n",
       "      <td>hypothyroidism</td>\n",
       "      <td>hypothyroidism</td>\n",
       "      <td>[-0.10238999873399734, 0.3485580086708069, 0.1...</td>\n",
       "    </tr>\n",
       "    <tr>\n",
       "      <th>4</th>\n",
       "      <td>http://www.ebi.ac.uk/efo/EFO_0004704</td>\n",
       "      <td>age at menopause</td>\n",
       "      <td>age at menopause</td>\n",
       "      <td>[-0.09575866907835007, -0.008548134006559849, ...</td>\n",
       "    </tr>\n",
       "    <tr>\n",
       "      <th>9</th>\n",
       "      <td>http://www.ebi.ac.uk/efo/EFO_0004703</td>\n",
       "      <td>age at menarche</td>\n",
       "      <td>age at menarche</td>\n",
       "      <td>[-0.12539799511432648, -0.04193533584475517, -...</td>\n",
       "    </tr>\n",
       "  </tbody>\n",
       "</table>\n",
       "</div>"
      ],
      "text/plain": [
       "                                      efo_id  \\\n",
       "0  http://www.orpha.net/ORDO/Orphanet_199315   \n",
       "1       http://www.ebi.ac.uk/efo/EFO_0004701   \n",
       "3       http://www.ebi.ac.uk/efo/EFO_0004705   \n",
       "4       http://www.ebi.ac.uk/efo/EFO_0004704   \n",
       "9       http://www.ebi.ac.uk/efo/EFO_0004703   \n",
       "\n",
       "                                            efo_name  \\\n",
       "0  familial clubfoot with or without associated l...   \n",
       "1                         methamphetamine dependence   \n",
       "3                                     hypothyroidism   \n",
       "4                                   age at menopause   \n",
       "9                                    age at menarche   \n",
       "\n",
       "                                          clean_text  \\\n",
       "0  familial clubfoot with or without associate lo...   \n",
       "1                         methamphetamine dependence   \n",
       "3                                     hypothyroidism   \n",
       "4                                   age at menopause   \n",
       "9                                    age at menarche   \n",
       "\n",
       "                                              vector  \n",
       "0  [-0.02324697934091091, 0.004608644172549248, -...  \n",
       "1  [-0.22024500370025635, -0.18752296268939972, 0...  \n",
       "3  [-0.10238999873399734, 0.3485580086708069, 0.1...  \n",
       "4  [-0.09575866907835007, -0.008548134006559849, ...  \n",
       "9  [-0.12539799511432648, -0.04193533584475517, -...  "
      ]
     },
     "execution_count": 31,
     "metadata": {},
     "output_type": "execute_result"
    }
   ],
   "source": [
    "%%time\n",
    "\n",
    "efo_encodes = (\n",
    "    gwas_to_efo[[\"efo_id\", \"efo_name\"]]\n",
    "    .drop_duplicates()\n",
    "    .assign(\n",
    "        clean_text=lambda df: df[\"efo_name\"].apply(\n",
    "            lambda x: clean_text(x, nlp_model=nlp)\n",
    "        )\n",
    "    )\n",
    "    .assign(\n",
    "            vector=lambda df: df[\"clean_text\"].apply(lambda x: encode(x, nlp_model=nlp))\n",
    "        )\n",
    ")\n",
    "print(efo_encodes.info())\n",
    "efo_encodes.head()"
   ]
  },
  {
   "cell_type": "code",
   "execution_count": 32,
   "metadata": {},
   "outputs": [],
   "source": [
    "output_file = ebi_dir / \"efo_encodes.csv.gz\"\n",
    "efo_encodes.to_csv(output_file, index=False, compression=\"gzip\")"
   ]
  },
  {
   "cell_type": "markdown",
   "metadata": {},
   "source": [
    "---"
   ]
  },
  {
   "cell_type": "markdown",
   "metadata": {},
   "source": [
    "# similarity score"
   ]
  },
  {
   "cell_type": "code",
   "execution_count": 47,
   "metadata": {},
   "outputs": [
    {
     "name": "stdout",
     "output_type": "stream",
     "text": [
      "(13334, 200)\n"
     ]
    }
   ],
   "source": [
    "gwas_arr = np.stack(np.array(gwas_encodes[\"vector\"].tolist()), axis=0)\n",
    "print(gwas_arr.shape)\n",
    "assert gwas_arr[0, :].tolist() == gwas_encodes[\"vector\"][0]"
   ]
  },
  {
   "cell_type": "code",
   "execution_count": 48,
   "metadata": {},
   "outputs": [
    {
     "name": "stdout",
     "output_type": "stream",
     "text": [
      "(2761, 200)\n"
     ]
    }
   ],
   "source": [
    "efo_arr = np.stack(np.array(efo_encodes[\"vector\"].tolist()), axis=0)\n",
    "print(efo_arr.shape)\n",
    "assert efo_arr[0, :].tolist() == efo_encodes[\"vector\"][0]"
   ]
  },
  {
   "cell_type": "code",
   "execution_count": 54,
   "metadata": {},
   "outputs": [],
   "source": [
    "from sklearn.metrics.pairwise import cosine_similarity\n",
    "from scipy.spatial.distance import cosine as cosine_distance"
   ]
  },
  {
   "cell_type": "code",
   "execution_count": 53,
   "metadata": {},
   "outputs": [
    {
     "name": "stdout",
     "output_type": "stream",
     "text": [
      "(13334, 2761)\n",
      "CPU times: user 4min 27s, sys: 12min 34s, total: 17min 1s\n",
      "Wall time: 31.4 s\n"
     ]
    }
   ],
   "source": [
    "%%time\n",
    "\n",
    "similarity_arr = cosine_similarity(gwas_arr, efo_arr)\n",
    "print(similarity_arr.shape)"
   ]
  },
  {
   "cell_type": "code",
   "execution_count": 56,
   "metadata": {},
   "outputs": [
    {
     "name": "stdout",
     "output_type": "stream",
     "text": [
      "0.5734677237334654\n",
      "0.5734677237334653\n"
     ]
    }
   ],
   "source": [
    "print(similarity_arr[0, 0])\n",
    "print(1 - cosine_distance(gwas_encodes[\"vector\"][0], efo_encodes[\"vector\"][0],))"
   ]
  },
  {
   "cell_type": "code",
   "execution_count": 57,
   "metadata": {},
   "outputs": [],
   "source": [
    "output_file = ebi_dir / \"similarity_arr.npy\"\n",
    "np.save(output_file, similarity_arr)"
   ]
  },
  {
   "cell_type": "markdown",
   "metadata": {},
   "source": [
    "---"
   ]
  },
  {
   "cell_type": "markdown",
   "metadata": {},
   "source": [
    "# eval"
   ]
  },
  {
   "cell_type": "code",
   "execution_count": 5,
   "metadata": {},
   "outputs": [],
   "source": [
    "gwas_encodes_path = ebi_dir / \"gwas_encodes.csv.gz\"\n",
    "efo_encodes_path = ebi_dir / \"efo_encodes.csv.gz\"\n",
    "gwas_to_efo_path = ebi_dir / \"clean_gwas_to_efo.csv\"\n",
    "similarity_arr_path = ebi_dir / \"similarity_arr.npy\""
   ]
  },
  {
   "cell_type": "code",
   "execution_count": 6,
   "metadata": {},
   "outputs": [
    {
     "name": "stdout",
     "output_type": "stream",
     "text": [
      "<class 'pandas.core.frame.DataFrame'>\n",
      "RangeIndex: 16871 entries, 0 to 16870\n",
      "Data columns (total 5 columns):\n",
      " #   Column           Non-Null Count  Dtype \n",
      "---  ------           --------------  ----- \n",
      " 0   gwas_name        16871 non-null  object\n",
      " 1   efo_name         16871 non-null  object\n",
      " 2   efo_id           16871 non-null  object\n",
      " 3   parent_efo_name  16871 non-null  object\n",
      " 4   parent_efo_id    16871 non-null  object\n",
      "dtypes: object(5)\n",
      "memory usage: 659.1+ KB\n",
      "None\n"
     ]
    },
    {
     "data": {
      "text/html": [
       "<div>\n",
       "<style scoped>\n",
       "    .dataframe tbody tr th:only-of-type {\n",
       "        vertical-align: middle;\n",
       "    }\n",
       "\n",
       "    .dataframe tbody tr th {\n",
       "        vertical-align: top;\n",
       "    }\n",
       "\n",
       "    .dataframe thead th {\n",
       "        text-align: right;\n",
       "    }\n",
       "</style>\n",
       "<table border=\"1\" class=\"dataframe\">\n",
       "  <thead>\n",
       "    <tr style=\"text-align: right;\">\n",
       "      <th></th>\n",
       "      <th>gwas_name</th>\n",
       "      <th>efo_name</th>\n",
       "      <th>efo_id</th>\n",
       "      <th>parent_efo_name</th>\n",
       "      <th>parent_efo_id</th>\n",
       "    </tr>\n",
       "  </thead>\n",
       "  <tbody>\n",
       "    <tr>\n",
       "      <th>0</th>\n",
       "      <td>Clubfoot</td>\n",
       "      <td>familial clubfoot with or without associated l...</td>\n",
       "      <td>http://www.orpha.net/ORDO/Orphanet_199315</td>\n",
       "      <td>Other disease</td>\n",
       "      <td>http://www.ebi.ac.uk/efo/EFO_0000408</td>\n",
       "    </tr>\n",
       "    <tr>\n",
       "      <th>1</th>\n",
       "      <td>Alcohol dependence or heroin dependence or met...</td>\n",
       "      <td>methamphetamine dependence</td>\n",
       "      <td>http://www.ebi.ac.uk/efo/EFO_0004701</td>\n",
       "      <td>Neurological disorder</td>\n",
       "      <td>http://www.ebi.ac.uk/efo/EFO_0000618</td>\n",
       "    </tr>\n",
       "    <tr>\n",
       "      <th>2</th>\n",
       "      <td>Methamphetamine dependence</td>\n",
       "      <td>methamphetamine dependence</td>\n",
       "      <td>http://www.ebi.ac.uk/efo/EFO_0004701</td>\n",
       "      <td>Neurological disorder</td>\n",
       "      <td>http://www.ebi.ac.uk/efo/EFO_0000618</td>\n",
       "    </tr>\n",
       "    <tr>\n",
       "      <th>3</th>\n",
       "      <td>Hypothyroidism</td>\n",
       "      <td>hypothyroidism</td>\n",
       "      <td>http://www.ebi.ac.uk/efo/EFO_0004705</td>\n",
       "      <td>Other disease</td>\n",
       "      <td>http://www.ebi.ac.uk/efo/EFO_0000408</td>\n",
       "    </tr>\n",
       "    <tr>\n",
       "      <th>4</th>\n",
       "      <td>Age at menopause</td>\n",
       "      <td>age at menopause</td>\n",
       "      <td>http://www.ebi.ac.uk/efo/EFO_0004704</td>\n",
       "      <td>Other measurement</td>\n",
       "      <td>http://www.ebi.ac.uk/efo/EFO_0001444</td>\n",
       "    </tr>\n",
       "  </tbody>\n",
       "</table>\n",
       "</div>"
      ],
      "text/plain": [
       "                                           gwas_name  \\\n",
       "0                                           Clubfoot   \n",
       "1  Alcohol dependence or heroin dependence or met...   \n",
       "2                         Methamphetamine dependence   \n",
       "3                                     Hypothyroidism   \n",
       "4                                   Age at menopause   \n",
       "\n",
       "                                            efo_name  \\\n",
       "0  familial clubfoot with or without associated l...   \n",
       "1                         methamphetamine dependence   \n",
       "2                         methamphetamine dependence   \n",
       "3                                     hypothyroidism   \n",
       "4                                   age at menopause   \n",
       "\n",
       "                                      efo_id        parent_efo_name  \\\n",
       "0  http://www.orpha.net/ORDO/Orphanet_199315          Other disease   \n",
       "1       http://www.ebi.ac.uk/efo/EFO_0004701  Neurological disorder   \n",
       "2       http://www.ebi.ac.uk/efo/EFO_0004701  Neurological disorder   \n",
       "3       http://www.ebi.ac.uk/efo/EFO_0004705          Other disease   \n",
       "4       http://www.ebi.ac.uk/efo/EFO_0004704      Other measurement   \n",
       "\n",
       "                          parent_efo_id  \n",
       "0  http://www.ebi.ac.uk/efo/EFO_0000408  \n",
       "1  http://www.ebi.ac.uk/efo/EFO_0000618  \n",
       "2  http://www.ebi.ac.uk/efo/EFO_0000618  \n",
       "3  http://www.ebi.ac.uk/efo/EFO_0000408  \n",
       "4  http://www.ebi.ac.uk/efo/EFO_0001444  "
      ]
     },
     "execution_count": 6,
     "metadata": {},
     "output_type": "execute_result"
    }
   ],
   "source": [
    "gwas_to_efo = pd.read_csv(gwas_to_efo_path)\n",
    "print(gwas_to_efo.info())\n",
    "gwas_to_efo.head()"
   ]
  },
  {
   "cell_type": "code",
   "execution_count": 7,
   "metadata": {},
   "outputs": [
    {
     "name": "stdout",
     "output_type": "stream",
     "text": [
      "<class 'pandas.core.frame.DataFrame'>\n",
      "RangeIndex: 13334 entries, 0 to 13333\n",
      "Data columns (total 3 columns):\n",
      " #   Column      Non-Null Count  Dtype \n",
      "---  ------      --------------  ----- \n",
      " 0   gwas_name   13334 non-null  object\n",
      " 1   clean_text  13334 non-null  object\n",
      " 2   vector      13334 non-null  object\n",
      "dtypes: object(3)\n",
      "memory usage: 312.6+ KB\n",
      "None\n"
     ]
    },
    {
     "data": {
      "text/html": [
       "<div>\n",
       "<style scoped>\n",
       "    .dataframe tbody tr th:only-of-type {\n",
       "        vertical-align: middle;\n",
       "    }\n",
       "\n",
       "    .dataframe tbody tr th {\n",
       "        vertical-align: top;\n",
       "    }\n",
       "\n",
       "    .dataframe thead th {\n",
       "        text-align: right;\n",
       "    }\n",
       "</style>\n",
       "<table border=\"1\" class=\"dataframe\">\n",
       "  <thead>\n",
       "    <tr style=\"text-align: right;\">\n",
       "      <th></th>\n",
       "      <th>gwas_name</th>\n",
       "      <th>clean_text</th>\n",
       "      <th>vector</th>\n",
       "    </tr>\n",
       "  </thead>\n",
       "  <tbody>\n",
       "    <tr>\n",
       "      <th>0</th>\n",
       "      <td>Clubfoot</td>\n",
       "      <td>clubfoot</td>\n",
       "      <td>[-0.37584900856018066, 0.19428400695323944, -0...</td>\n",
       "    </tr>\n",
       "    <tr>\n",
       "      <th>1</th>\n",
       "      <td>Alcohol dependence or heroin dependence or met...</td>\n",
       "      <td>alcohol dependence or heroin dependence or met...</td>\n",
       "      <td>[-0.11215012520551682, -0.17538602650165558, 0...</td>\n",
       "    </tr>\n",
       "    <tr>\n",
       "      <th>2</th>\n",
       "      <td>Methamphetamine dependence</td>\n",
       "      <td>methamphetamine dependence</td>\n",
       "      <td>[-0.22024500370025635, -0.18752296268939972, 0...</td>\n",
       "    </tr>\n",
       "    <tr>\n",
       "      <th>3</th>\n",
       "      <td>Hypothyroidism</td>\n",
       "      <td>hypothyroidism</td>\n",
       "      <td>[-0.10238999873399734, 0.3485580086708069, 0.1...</td>\n",
       "    </tr>\n",
       "    <tr>\n",
       "      <th>4</th>\n",
       "      <td>Age at menopause</td>\n",
       "      <td>age at menopause</td>\n",
       "      <td>[-0.09575866907835007, -0.008548134006559849, ...</td>\n",
       "    </tr>\n",
       "  </tbody>\n",
       "</table>\n",
       "</div>"
      ],
      "text/plain": [
       "                                           gwas_name  \\\n",
       "0                                           Clubfoot   \n",
       "1  Alcohol dependence or heroin dependence or met...   \n",
       "2                         Methamphetamine dependence   \n",
       "3                                     Hypothyroidism   \n",
       "4                                   Age at menopause   \n",
       "\n",
       "                                          clean_text  \\\n",
       "0                                           clubfoot   \n",
       "1  alcohol dependence or heroin dependence or met...   \n",
       "2                         methamphetamine dependence   \n",
       "3                                     hypothyroidism   \n",
       "4                                   age at menopause   \n",
       "\n",
       "                                              vector  \n",
       "0  [-0.37584900856018066, 0.19428400695323944, -0...  \n",
       "1  [-0.11215012520551682, -0.17538602650165558, 0...  \n",
       "2  [-0.22024500370025635, -0.18752296268939972, 0...  \n",
       "3  [-0.10238999873399734, 0.3485580086708069, 0.1...  \n",
       "4  [-0.09575866907835007, -0.008548134006559849, ...  "
      ]
     },
     "execution_count": 7,
     "metadata": {},
     "output_type": "execute_result"
    }
   ],
   "source": [
    "gwas_encodes = pd.read_csv(gwas_encodes_path).assign(\n",
    "    vector=lambda df: df[\"vector\"].apply(json.loads)\n",
    ")\n",
    "print(gwas_encodes.info())\n",
    "gwas_encodes.head()"
   ]
  },
  {
   "cell_type": "code",
   "execution_count": 8,
   "metadata": {},
   "outputs": [
    {
     "name": "stdout",
     "output_type": "stream",
     "text": [
      "<class 'pandas.core.frame.DataFrame'>\n",
      "RangeIndex: 2761 entries, 0 to 2760\n",
      "Data columns (total 4 columns):\n",
      " #   Column      Non-Null Count  Dtype \n",
      "---  ------      --------------  ----- \n",
      " 0   efo_id      2761 non-null   object\n",
      " 1   efo_name    2761 non-null   object\n",
      " 2   clean_text  2761 non-null   object\n",
      " 3   vector      2761 non-null   object\n",
      "dtypes: object(4)\n",
      "memory usage: 86.4+ KB\n",
      "None\n"
     ]
    },
    {
     "data": {
      "text/html": [
       "<div>\n",
       "<style scoped>\n",
       "    .dataframe tbody tr th:only-of-type {\n",
       "        vertical-align: middle;\n",
       "    }\n",
       "\n",
       "    .dataframe tbody tr th {\n",
       "        vertical-align: top;\n",
       "    }\n",
       "\n",
       "    .dataframe thead th {\n",
       "        text-align: right;\n",
       "    }\n",
       "</style>\n",
       "<table border=\"1\" class=\"dataframe\">\n",
       "  <thead>\n",
       "    <tr style=\"text-align: right;\">\n",
       "      <th></th>\n",
       "      <th>efo_id</th>\n",
       "      <th>efo_name</th>\n",
       "      <th>clean_text</th>\n",
       "      <th>vector</th>\n",
       "    </tr>\n",
       "  </thead>\n",
       "  <tbody>\n",
       "    <tr>\n",
       "      <th>0</th>\n",
       "      <td>http://www.orpha.net/ORDO/Orphanet_199315</td>\n",
       "      <td>familial clubfoot with or without associated l...</td>\n",
       "      <td>familial clubfoot with or without associate lo...</td>\n",
       "      <td>[-0.02324697934091091, 0.004608644172549248, -...</td>\n",
       "    </tr>\n",
       "    <tr>\n",
       "      <th>1</th>\n",
       "      <td>http://www.ebi.ac.uk/efo/EFO_0004701</td>\n",
       "      <td>methamphetamine dependence</td>\n",
       "      <td>methamphetamine dependence</td>\n",
       "      <td>[-0.22024500370025635, -0.18752296268939972, 0...</td>\n",
       "    </tr>\n",
       "    <tr>\n",
       "      <th>2</th>\n",
       "      <td>http://www.ebi.ac.uk/efo/EFO_0004705</td>\n",
       "      <td>hypothyroidism</td>\n",
       "      <td>hypothyroidism</td>\n",
       "      <td>[-0.10238999873399734, 0.3485580086708069, 0.1...</td>\n",
       "    </tr>\n",
       "    <tr>\n",
       "      <th>3</th>\n",
       "      <td>http://www.ebi.ac.uk/efo/EFO_0004704</td>\n",
       "      <td>age at menopause</td>\n",
       "      <td>age at menopause</td>\n",
       "      <td>[-0.09575866907835007, -0.008548134006559849, ...</td>\n",
       "    </tr>\n",
       "    <tr>\n",
       "      <th>4</th>\n",
       "      <td>http://www.ebi.ac.uk/efo/EFO_0004703</td>\n",
       "      <td>age at menarche</td>\n",
       "      <td>age at menarche</td>\n",
       "      <td>[-0.12539799511432648, -0.04193533584475517, -...</td>\n",
       "    </tr>\n",
       "  </tbody>\n",
       "</table>\n",
       "</div>"
      ],
      "text/plain": [
       "                                      efo_id  \\\n",
       "0  http://www.orpha.net/ORDO/Orphanet_199315   \n",
       "1       http://www.ebi.ac.uk/efo/EFO_0004701   \n",
       "2       http://www.ebi.ac.uk/efo/EFO_0004705   \n",
       "3       http://www.ebi.ac.uk/efo/EFO_0004704   \n",
       "4       http://www.ebi.ac.uk/efo/EFO_0004703   \n",
       "\n",
       "                                            efo_name  \\\n",
       "0  familial clubfoot with or without associated l...   \n",
       "1                         methamphetamine dependence   \n",
       "2                                     hypothyroidism   \n",
       "3                                   age at menopause   \n",
       "4                                    age at menarche   \n",
       "\n",
       "                                          clean_text  \\\n",
       "0  familial clubfoot with or without associate lo...   \n",
       "1                         methamphetamine dependence   \n",
       "2                                     hypothyroidism   \n",
       "3                                   age at menopause   \n",
       "4                                    age at menarche   \n",
       "\n",
       "                                              vector  \n",
       "0  [-0.02324697934091091, 0.004608644172549248, -...  \n",
       "1  [-0.22024500370025635, -0.18752296268939972, 0...  \n",
       "2  [-0.10238999873399734, 0.3485580086708069, 0.1...  \n",
       "3  [-0.09575866907835007, -0.008548134006559849, ...  \n",
       "4  [-0.12539799511432648, -0.04193533584475517, -...  "
      ]
     },
     "execution_count": 8,
     "metadata": {},
     "output_type": "execute_result"
    }
   ],
   "source": [
    "efo_encodes = pd.read_csv(efo_encodes_path).assign(\n",
    "    vector=lambda df: df[\"vector\"].apply(json.loads)\n",
    ")\n",
    "print(efo_encodes.info())\n",
    "efo_encodes.head()"
   ]
  },
  {
   "cell_type": "code",
   "execution_count": 9,
   "metadata": {},
   "outputs": [],
   "source": [
    "similarity_arr = np.load(similarity_arr_path)"
   ]
  },
  {
   "cell_type": "code",
   "execution_count": 10,
   "metadata": {},
   "outputs": [
    {
     "data": {
      "text/plain": [
       "(13334, 2761)"
      ]
     },
     "execution_count": 10,
     "metadata": {},
     "output_type": "execute_result"
    }
   ],
   "source": [
    "similarity_arr.shape"
   ]
  },
  {
   "cell_type": "code",
   "execution_count": 11,
   "metadata": {},
   "outputs": [
    {
     "name": "stdout",
     "output_type": "stream",
     "text": [
      "[[ 0.57346772 -0.08321398  0.43528596 ...  0.14525737  0.25932941\n",
      "   0.06446416]\n",
      " [ 0.15219263  0.92250771  0.10776712 ...  0.02089715 -0.01034494\n",
      "   0.15754692]\n",
      " [ 0.00778261  1.          0.08975805 ...  0.03561883 -0.03105269\n",
      "   0.16007295]\n",
      " ...\n",
      " [ 0.11294115  0.07792424  0.21593123 ... -0.00859792 -0.07831833\n",
      "   0.03265154]\n",
      " [ 0.24552335  0.11146804  0.31138856 ...  0.15902792  0.08289844\n",
      "   0.16645138]\n",
      " [ 0.19952689  0.18990634  0.14023943 ...  0.1246996  -0.02603151\n",
      "   0.82895111]]\n"
     ]
    }
   ],
   "source": [
    "print(similarity_arr)"
   ]
  },
  {
   "cell_type": "code",
   "execution_count": 34,
   "metadata": {},
   "outputs": [],
   "source": [
    "def get_rank(gwas_idx, efo_idx, similarity_arr):\n",
    "    arr = similarity_arr[gwas_idx, :]\n",
    "    order = arr.argsort()\n",
    "    ranks = order.argsort()\n",
    "    # inverse rank largest to smallest\n",
    "    efo_idx_rank = len(arr) - ranks[efo_idx]\n",
    "    return efo_idx_rank"
   ]
  },
  {
   "cell_type": "code",
   "execution_count": 35,
   "metadata": {},
   "outputs": [
    {
     "data": {
      "text/html": [
       "<div>\n",
       "<style scoped>\n",
       "    .dataframe tbody tr th:only-of-type {\n",
       "        vertical-align: middle;\n",
       "    }\n",
       "\n",
       "    .dataframe tbody tr th {\n",
       "        vertical-align: top;\n",
       "    }\n",
       "\n",
       "    .dataframe thead th {\n",
       "        text-align: right;\n",
       "    }\n",
       "</style>\n",
       "<table border=\"1\" class=\"dataframe\">\n",
       "  <thead>\n",
       "    <tr style=\"text-align: right;\">\n",
       "      <th></th>\n",
       "      <th>gwas_name</th>\n",
       "      <th>efo_name</th>\n",
       "      <th>efo_id</th>\n",
       "      <th>parent_efo_name</th>\n",
       "      <th>parent_efo_id</th>\n",
       "      <th>efo_idx</th>\n",
       "      <th>gwas_idx</th>\n",
       "      <th>expected_match_rank</th>\n",
       "    </tr>\n",
       "  </thead>\n",
       "  <tbody>\n",
       "    <tr>\n",
       "      <th>0</th>\n",
       "      <td>Clubfoot</td>\n",
       "      <td>familial clubfoot with or without associated l...</td>\n",
       "      <td>http://www.orpha.net/ORDO/Orphanet_199315</td>\n",
       "      <td>Other disease</td>\n",
       "      <td>http://www.ebi.ac.uk/efo/EFO_0000408</td>\n",
       "      <td>0</td>\n",
       "      <td>0</td>\n",
       "      <td>7</td>\n",
       "    </tr>\n",
       "    <tr>\n",
       "      <th>1</th>\n",
       "      <td>Alcohol dependence or heroin dependence or met...</td>\n",
       "      <td>methamphetamine dependence</td>\n",
       "      <td>http://www.ebi.ac.uk/efo/EFO_0004701</td>\n",
       "      <td>Neurological disorder</td>\n",
       "      <td>http://www.ebi.ac.uk/efo/EFO_0000618</td>\n",
       "      <td>1</td>\n",
       "      <td>1</td>\n",
       "      <td>5</td>\n",
       "    </tr>\n",
       "    <tr>\n",
       "      <th>2</th>\n",
       "      <td>Methamphetamine dependence</td>\n",
       "      <td>methamphetamine dependence</td>\n",
       "      <td>http://www.ebi.ac.uk/efo/EFO_0004701</td>\n",
       "      <td>Neurological disorder</td>\n",
       "      <td>http://www.ebi.ac.uk/efo/EFO_0000618</td>\n",
       "      <td>1</td>\n",
       "      <td>2</td>\n",
       "      <td>1</td>\n",
       "    </tr>\n",
       "    <tr>\n",
       "      <th>3</th>\n",
       "      <td>Hypothyroidism</td>\n",
       "      <td>hypothyroidism</td>\n",
       "      <td>http://www.ebi.ac.uk/efo/EFO_0004705</td>\n",
       "      <td>Other disease</td>\n",
       "      <td>http://www.ebi.ac.uk/efo/EFO_0000408</td>\n",
       "      <td>2</td>\n",
       "      <td>3</td>\n",
       "      <td>1</td>\n",
       "    </tr>\n",
       "    <tr>\n",
       "      <th>4</th>\n",
       "      <td>Age at menopause</td>\n",
       "      <td>age at menopause</td>\n",
       "      <td>http://www.ebi.ac.uk/efo/EFO_0004704</td>\n",
       "      <td>Other measurement</td>\n",
       "      <td>http://www.ebi.ac.uk/efo/EFO_0001444</td>\n",
       "      <td>3</td>\n",
       "      <td>4</td>\n",
       "      <td>1</td>\n",
       "    </tr>\n",
       "    <tr>\n",
       "      <th>...</th>\n",
       "      <td>...</td>\n",
       "      <td>...</td>\n",
       "      <td>...</td>\n",
       "      <td>...</td>\n",
       "      <td>...</td>\n",
       "      <td>...</td>\n",
       "      <td>...</td>\n",
       "      <td>...</td>\n",
       "    </tr>\n",
       "    <tr>\n",
       "      <th>16866</th>\n",
       "      <td>Moderate or severe prolonged lymphopenia in di...</td>\n",
       "      <td>relapsing-remitting multiple sclerosis</td>\n",
       "      <td>http://www.ebi.ac.uk/efo/EFO_0003929</td>\n",
       "      <td>Immune system disorder</td>\n",
       "      <td>http://www.ebi.ac.uk/efo/EFO_0000540</td>\n",
       "      <td>2758</td>\n",
       "      <td>2076</td>\n",
       "      <td>1</td>\n",
       "    </tr>\n",
       "    <tr>\n",
       "      <th>16867</th>\n",
       "      <td>Severe prolonged lymphopenia in dimethyl fumar...</td>\n",
       "      <td>relapsing-remitting multiple sclerosis</td>\n",
       "      <td>http://www.ebi.ac.uk/efo/EFO_0003929</td>\n",
       "      <td>Immune system disorder</td>\n",
       "      <td>http://www.ebi.ac.uk/efo/EFO_0000540</td>\n",
       "      <td>2758</td>\n",
       "      <td>2077</td>\n",
       "      <td>1</td>\n",
       "    </tr>\n",
       "    <tr>\n",
       "      <th>16868</th>\n",
       "      <td>Surgical necrotising enterocolitis in extremel...</td>\n",
       "      <td>necrotizing enterocolitis</td>\n",
       "      <td>http://www.ebi.ac.uk/efo/EFO_0003928</td>\n",
       "      <td>Digestive system disorder</td>\n",
       "      <td>http://www.ebi.ac.uk/efo/EFO_0000405</td>\n",
       "      <td>2759</td>\n",
       "      <td>13301</td>\n",
       "      <td>1</td>\n",
       "    </tr>\n",
       "    <tr>\n",
       "      <th>16869</th>\n",
       "      <td>Cognitive performance</td>\n",
       "      <td>neuropsychological test</td>\n",
       "      <td>http://www.ebi.ac.uk/efo/EFO_0003926</td>\n",
       "      <td>Other measurement</td>\n",
       "      <td>http://www.ebi.ac.uk/efo/EFO_0001444</td>\n",
       "      <td>2760</td>\n",
       "      <td>6065</td>\n",
       "      <td>29</td>\n",
       "    </tr>\n",
       "    <tr>\n",
       "      <th>16870</th>\n",
       "      <td>Cognitive test performance</td>\n",
       "      <td>neuropsychological test</td>\n",
       "      <td>http://www.ebi.ac.uk/efo/EFO_0003926</td>\n",
       "      <td>Other measurement</td>\n",
       "      <td>http://www.ebi.ac.uk/efo/EFO_0001444</td>\n",
       "      <td>2760</td>\n",
       "      <td>13333</td>\n",
       "      <td>1</td>\n",
       "    </tr>\n",
       "  </tbody>\n",
       "</table>\n",
       "<p>16871 rows × 8 columns</p>\n",
       "</div>"
      ],
      "text/plain": [
       "                                               gwas_name  \\\n",
       "0                                               Clubfoot   \n",
       "1      Alcohol dependence or heroin dependence or met...   \n",
       "2                             Methamphetamine dependence   \n",
       "3                                         Hypothyroidism   \n",
       "4                                       Age at menopause   \n",
       "...                                                  ...   \n",
       "16866  Moderate or severe prolonged lymphopenia in di...   \n",
       "16867  Severe prolonged lymphopenia in dimethyl fumar...   \n",
       "16868  Surgical necrotising enterocolitis in extremel...   \n",
       "16869                              Cognitive performance   \n",
       "16870                         Cognitive test performance   \n",
       "\n",
       "                                                efo_name  \\\n",
       "0      familial clubfoot with or without associated l...   \n",
       "1                             methamphetamine dependence   \n",
       "2                             methamphetamine dependence   \n",
       "3                                         hypothyroidism   \n",
       "4                                       age at menopause   \n",
       "...                                                  ...   \n",
       "16866             relapsing-remitting multiple sclerosis   \n",
       "16867             relapsing-remitting multiple sclerosis   \n",
       "16868                          necrotizing enterocolitis   \n",
       "16869                            neuropsychological test   \n",
       "16870                            neuropsychological test   \n",
       "\n",
       "                                          efo_id            parent_efo_name  \\\n",
       "0      http://www.orpha.net/ORDO/Orphanet_199315              Other disease   \n",
       "1           http://www.ebi.ac.uk/efo/EFO_0004701      Neurological disorder   \n",
       "2           http://www.ebi.ac.uk/efo/EFO_0004701      Neurological disorder   \n",
       "3           http://www.ebi.ac.uk/efo/EFO_0004705              Other disease   \n",
       "4           http://www.ebi.ac.uk/efo/EFO_0004704          Other measurement   \n",
       "...                                          ...                        ...   \n",
       "16866       http://www.ebi.ac.uk/efo/EFO_0003929     Immune system disorder   \n",
       "16867       http://www.ebi.ac.uk/efo/EFO_0003929     Immune system disorder   \n",
       "16868       http://www.ebi.ac.uk/efo/EFO_0003928  Digestive system disorder   \n",
       "16869       http://www.ebi.ac.uk/efo/EFO_0003926          Other measurement   \n",
       "16870       http://www.ebi.ac.uk/efo/EFO_0003926          Other measurement   \n",
       "\n",
       "                              parent_efo_id  efo_idx  gwas_idx  \\\n",
       "0      http://www.ebi.ac.uk/efo/EFO_0000408        0         0   \n",
       "1      http://www.ebi.ac.uk/efo/EFO_0000618        1         1   \n",
       "2      http://www.ebi.ac.uk/efo/EFO_0000618        1         2   \n",
       "3      http://www.ebi.ac.uk/efo/EFO_0000408        2         3   \n",
       "4      http://www.ebi.ac.uk/efo/EFO_0001444        3         4   \n",
       "...                                     ...      ...       ...   \n",
       "16866  http://www.ebi.ac.uk/efo/EFO_0000540     2758      2076   \n",
       "16867  http://www.ebi.ac.uk/efo/EFO_0000540     2758      2077   \n",
       "16868  http://www.ebi.ac.uk/efo/EFO_0000405     2759     13301   \n",
       "16869  http://www.ebi.ac.uk/efo/EFO_0001444     2760      6065   \n",
       "16870  http://www.ebi.ac.uk/efo/EFO_0001444     2760     13333   \n",
       "\n",
       "       expected_match_rank  \n",
       "0                        7  \n",
       "1                        5  \n",
       "2                        1  \n",
       "3                        1  \n",
       "4                        1  \n",
       "...                    ...  \n",
       "16866                    1  \n",
       "16867                    1  \n",
       "16868                    1  \n",
       "16869                   29  \n",
       "16870                    1  \n",
       "\n",
       "[16871 rows x 8 columns]"
      ]
     },
     "execution_count": 35,
     "metadata": {},
     "output_type": "execute_result"
    }
   ],
   "source": [
    "efo_idx_df = efo_encodes[[\"efo_id\"]].reset_index(drop=False).set_index(\"efo_id\")\n",
    "gwas_idx_df = gwas_encodes[[\"gwas_name\"]].reset_index(drop=False).set_index(\"gwas_name\")\n",
    "gwas_to_efo = gwas_to_efo.assign(\n",
    "    efo_idx=lambda df: df[\"efo_id\"].apply(lambda x: efo_idx_df.at[x, \"index\"]),\n",
    "    gwas_idx=lambda df: df[\"gwas_name\"].apply(lambda x: gwas_idx_df.at[x, \"index\"]),\n",
    ").assign(\n",
    "    expected_match_rank=lambda df: df.apply(\n",
    "        lambda row: get_rank(\n",
    "            gwas_idx=row[\"gwas_idx\"],\n",
    "            efo_idx=row[\"efo_idx\"],\n",
    "            similarity_arr=similarity_arr,\n",
    "        ),\n",
    "        axis=1,\n",
    "    )\n",
    ")\n",
    "gwas_to_efo"
   ]
  },
  {
   "cell_type": "markdown",
   "metadata": {},
   "source": [
    "# distribution of ranks of the expected match"
   ]
  },
  {
   "cell_type": "code",
   "execution_count": 38,
   "metadata": {},
   "outputs": [
    {
     "name": "stderr",
     "output_type": "stream",
     "text": [
      "/home/ik18445/miniconda3/envs/epigraphdb_neural_processing/lib/python3.7/site-packages/seaborn/distributions.py:2551: FutureWarning: `distplot` is a deprecated function and will be removed in a future version. Please adapt your code to use either `displot` (a figure-level function with similar flexibility) or `histplot` (an axes-level function for histograms).\n",
      "  warnings.warn(msg, FutureWarning)\n",
      "/home/ik18445/miniconda3/envs/epigraphdb_neural_processing/lib/python3.7/site-packages/seaborn/distributions.py:2551: FutureWarning: `distplot` is a deprecated function and will be removed in a future version. Please adapt your code to use either `displot` (a figure-level function with similar flexibility) or `histplot` (an axes-level function for histograms).\n",
      "  warnings.warn(msg, FutureWarning)\n",
      "/home/ik18445/miniconda3/envs/epigraphdb_neural_processing/lib/python3.7/site-packages/seaborn/distributions.py:2551: FutureWarning: `distplot` is a deprecated function and will be removed in a future version. Please adapt your code to use either `displot` (a figure-level function with similar flexibility) or `histplot` (an axes-level function for histograms).\n",
      "  warnings.warn(msg, FutureWarning)\n",
      "/home/ik18445/miniconda3/envs/epigraphdb_neural_processing/lib/python3.7/site-packages/seaborn/distributions.py:2551: FutureWarning: `distplot` is a deprecated function and will be removed in a future version. Please adapt your code to use either `displot` (a figure-level function with similar flexibility) or `histplot` (an axes-level function for histograms).\n",
      "  warnings.warn(msg, FutureWarning)\n",
      "/home/ik18445/miniconda3/envs/epigraphdb_neural_processing/lib/python3.7/site-packages/seaborn/distributions.py:2551: FutureWarning: `distplot` is a deprecated function and will be removed in a future version. Please adapt your code to use either `displot` (a figure-level function with similar flexibility) or `histplot` (an axes-level function for histograms).\n",
      "  warnings.warn(msg, FutureWarning)\n",
      "/home/ik18445/miniconda3/envs/epigraphdb_neural_processing/lib/python3.7/site-packages/seaborn/distributions.py:2551: FutureWarning: `distplot` is a deprecated function and will be removed in a future version. Please adapt your code to use either `displot` (a figure-level function with similar flexibility) or `histplot` (an axes-level function for histograms).\n",
      "  warnings.warn(msg, FutureWarning)\n",
      "/home/ik18445/miniconda3/envs/epigraphdb_neural_processing/lib/python3.7/site-packages/seaborn/distributions.py:2551: FutureWarning: `distplot` is a deprecated function and will be removed in a future version. Please adapt your code to use either `displot` (a figure-level function with similar flexibility) or `histplot` (an axes-level function for histograms).\n",
      "  warnings.warn(msg, FutureWarning)\n",
      "/home/ik18445/miniconda3/envs/epigraphdb_neural_processing/lib/python3.7/site-packages/seaborn/distributions.py:2551: FutureWarning: `distplot` is a deprecated function and will be removed in a future version. Please adapt your code to use either `displot` (a figure-level function with similar flexibility) or `histplot` (an axes-level function for histograms).\n",
      "  warnings.warn(msg, FutureWarning)\n",
      "/home/ik18445/miniconda3/envs/epigraphdb_neural_processing/lib/python3.7/site-packages/seaborn/distributions.py:2551: FutureWarning: `distplot` is a deprecated function and will be removed in a future version. Please adapt your code to use either `displot` (a figure-level function with similar flexibility) or `histplot` (an axes-level function for histograms).\n",
      "  warnings.warn(msg, FutureWarning)\n",
      "/home/ik18445/miniconda3/envs/epigraphdb_neural_processing/lib/python3.7/site-packages/seaborn/distributions.py:2551: FutureWarning: `distplot` is a deprecated function and will be removed in a future version. Please adapt your code to use either `displot` (a figure-level function with similar flexibility) or `histplot` (an axes-level function for histograms).\n",
      "  warnings.warn(msg, FutureWarning)\n",
      "/home/ik18445/miniconda3/envs/epigraphdb_neural_processing/lib/python3.7/site-packages/seaborn/distributions.py:2551: FutureWarning: `distplot` is a deprecated function and will be removed in a future version. Please adapt your code to use either `displot` (a figure-level function with similar flexibility) or `histplot` (an axes-level function for histograms).\n",
      "  warnings.warn(msg, FutureWarning)\n",
      "/home/ik18445/miniconda3/envs/epigraphdb_neural_processing/lib/python3.7/site-packages/seaborn/distributions.py:2551: FutureWarning: `distplot` is a deprecated function and will be removed in a future version. Please adapt your code to use either `displot` (a figure-level function with similar flexibility) or `histplot` (an axes-level function for histograms).\n",
      "  warnings.warn(msg, FutureWarning)\n",
      "/home/ik18445/miniconda3/envs/epigraphdb_neural_processing/lib/python3.7/site-packages/seaborn/distributions.py:2551: FutureWarning: `distplot` is a deprecated function and will be removed in a future version. Please adapt your code to use either `displot` (a figure-level function with similar flexibility) or `histplot` (an axes-level function for histograms).\n",
      "  warnings.warn(msg, FutureWarning)\n",
      "/home/ik18445/miniconda3/envs/epigraphdb_neural_processing/lib/python3.7/site-packages/seaborn/distributions.py:2551: FutureWarning: `distplot` is a deprecated function and will be removed in a future version. Please adapt your code to use either `displot` (a figure-level function with similar flexibility) or `histplot` (an axes-level function for histograms).\n",
      "  warnings.warn(msg, FutureWarning)\n",
      "/home/ik18445/miniconda3/envs/epigraphdb_neural_processing/lib/python3.7/site-packages/seaborn/distributions.py:2551: FutureWarning: `distplot` is a deprecated function and will be removed in a future version. Please adapt your code to use either `displot` (a figure-level function with similar flexibility) or `histplot` (an axes-level function for histograms).\n",
      "  warnings.warn(msg, FutureWarning)\n",
      "/home/ik18445/miniconda3/envs/epigraphdb_neural_processing/lib/python3.7/site-packages/seaborn/distributions.py:2551: FutureWarning: `distplot` is a deprecated function and will be removed in a future version. Please adapt your code to use either `displot` (a figure-level function with similar flexibility) or `histplot` (an axes-level function for histograms).\n",
      "  warnings.warn(msg, FutureWarning)\n",
      "/home/ik18445/miniconda3/envs/epigraphdb_neural_processing/lib/python3.7/site-packages/seaborn/distributions.py:2551: FutureWarning: `distplot` is a deprecated function and will be removed in a future version. Please adapt your code to use either `displot` (a figure-level function with similar flexibility) or `histplot` (an axes-level function for histograms).\n",
      "  warnings.warn(msg, FutureWarning)\n"
     ]
    },
    {
     "data": {
      "text/plain": [
       "<seaborn.axisgrid.FacetGrid at 0x7f872ca6a390>"
      ]
     },
     "execution_count": 38,
     "metadata": {},
     "output_type": "execute_result"
    },
    {
     "data": {
      "image/png": "[encoded data removed]",
      "text/plain": [
       "<Figure size 864x1080 with 17 Axes>"
      ]
     },
     "metadata": {
      "needs_background": "light"
     },
     "output_type": "display_data"
    }
   ],
   "source": [
    "g = sns.FacetGrid(gwas_to_efo, col=\"parent_efo_name\", col_wrap=4)\n",
    "g.map(sns.distplot, \"expected_match_rank\")"
   ]
  },
  {
   "cell_type": "code",
   "execution_count": 40,
   "metadata": {},
   "outputs": [
    {
     "name": "stdout",
     "output_type": "stream",
     "text": [
      "510\n"
     ]
    },
    {
     "data": {
      "text/plain": [
       "1     209\n",
       "2      59\n",
       "3      27\n",
       "7      22\n",
       "12     16\n",
       "     ... \n",
       "48      1\n",
       "46      1\n",
       "44      1\n",
       "43      1\n",
       "42      1\n",
       "Name: expected_match_rank, Length: 74, dtype: int64"
      ]
     },
     "execution_count": 40,
     "metadata": {},
     "output_type": "execute_result"
    }
   ],
   "source": [
    "s = gwas_to_efo[gwas_to_efo[\"parent_efo_name\"] == \"Cancer\"][\"expected_match_rank\"]\n",
    "print(len(s))\n",
    "s.value_counts()"
   ]
  },
  {
   "cell_type": "code",
   "execution_count": 41,
   "metadata": {},
   "outputs": [
    {
     "data": {
      "image/png": "[encoded data removed]",
      "text/plain": [
       "<Figure size 360x360 with 1 Axes>"
      ]
     },
     "metadata": {
      "needs_background": "light"
     },
     "output_type": "display_data"
    }
   ],
   "source": [
    "ax = sns.displot(s)"
   ]
  },
  {
   "cell_type": "markdown",
   "metadata": {},
   "source": [
    "# percentage of expected match falling to top rank groups"
   ]
  },
  {
   "cell_type": "code",
   "execution_count": 52,
   "metadata": {},
   "outputs": [
    {
     "data": {
      "text/html": [
       "<div>\n",
       "<style scoped>\n",
       "    .dataframe tbody tr th:only-of-type {\n",
       "        vertical-align: middle;\n",
       "    }\n",
       "\n",
       "    .dataframe tbody tr th {\n",
       "        vertical-align: top;\n",
       "    }\n",
       "\n",
       "    .dataframe thead th {\n",
       "        text-align: right;\n",
       "    }\n",
       "</style>\n",
       "<table border=\"1\" class=\"dataframe\">\n",
       "  <thead>\n",
       "    <tr style=\"text-align: right;\">\n",
       "      <th></th>\n",
       "      <th>first_3</th>\n",
       "      <th>first_5</th>\n",
       "      <th>first_10</th>\n",
       "    </tr>\n",
       "    <tr>\n",
       "      <th>parent_efo_name</th>\n",
       "      <th></th>\n",
       "      <th></th>\n",
       "      <th></th>\n",
       "    </tr>\n",
       "  </thead>\n",
       "  <tbody>\n",
       "    <tr>\n",
       "      <th>Biological process</th>\n",
       "      <td>36.802030</td>\n",
       "      <td>42.639594</td>\n",
       "      <td>48.477157</td>\n",
       "    </tr>\n",
       "    <tr>\n",
       "      <th>Body measurement</th>\n",
       "      <td>58.431373</td>\n",
       "      <td>61.176471</td>\n",
       "      <td>65.882353</td>\n",
       "    </tr>\n",
       "    <tr>\n",
       "      <th>Cancer</th>\n",
       "      <td>57.843137</td>\n",
       "      <td>63.529412</td>\n",
       "      <td>77.058824</td>\n",
       "    </tr>\n",
       "    <tr>\n",
       "      <th>Cardiovascular disease</th>\n",
       "      <td>62.889518</td>\n",
       "      <td>66.855524</td>\n",
       "      <td>74.787535</td>\n",
       "    </tr>\n",
       "    <tr>\n",
       "      <th>Cardiovascular measurement</th>\n",
       "      <td>52.816901</td>\n",
       "      <td>59.154930</td>\n",
       "      <td>67.957746</td>\n",
       "    </tr>\n",
       "    <tr>\n",
       "      <th>Digestive system disorder</th>\n",
       "      <td>78.971963</td>\n",
       "      <td>83.644860</td>\n",
       "      <td>89.252336</td>\n",
       "    </tr>\n",
       "    <tr>\n",
       "      <th>Hematological measurement</th>\n",
       "      <td>60.150376</td>\n",
       "      <td>66.917293</td>\n",
       "      <td>72.932331</td>\n",
       "    </tr>\n",
       "    <tr>\n",
       "      <th>Immune system disorder</th>\n",
       "      <td>73.408240</td>\n",
       "      <td>80.524345</td>\n",
       "      <td>85.393258</td>\n",
       "    </tr>\n",
       "    <tr>\n",
       "      <th>Inflammatory measurement</th>\n",
       "      <td>58.333333</td>\n",
       "      <td>66.666667</td>\n",
       "      <td>70.000000</td>\n",
       "    </tr>\n",
       "    <tr>\n",
       "      <th>Lipid or lipoprotein measurement</th>\n",
       "      <td>47.093023</td>\n",
       "      <td>56.395349</td>\n",
       "      <td>71.317829</td>\n",
       "    </tr>\n",
       "    <tr>\n",
       "      <th>Liver enzyme measurement</th>\n",
       "      <td>76.666667</td>\n",
       "      <td>76.666667</td>\n",
       "      <td>80.000000</td>\n",
       "    </tr>\n",
       "    <tr>\n",
       "      <th>Metabolic disorder</th>\n",
       "      <td>37.366548</td>\n",
       "      <td>55.516014</td>\n",
       "      <td>66.903915</td>\n",
       "    </tr>\n",
       "    <tr>\n",
       "      <th>Neurological disorder</th>\n",
       "      <td>52.655367</td>\n",
       "      <td>58.305085</td>\n",
       "      <td>64.632768</td>\n",
       "    </tr>\n",
       "    <tr>\n",
       "      <th>Other disease</th>\n",
       "      <td>65.289256</td>\n",
       "      <td>71.074380</td>\n",
       "      <td>75.867769</td>\n",
       "    </tr>\n",
       "    <tr>\n",
       "      <th>Other measurement</th>\n",
       "      <td>25.296443</td>\n",
       "      <td>29.055979</td>\n",
       "      <td>33.651990</td>\n",
       "    </tr>\n",
       "    <tr>\n",
       "      <th>Other trait</th>\n",
       "      <td>65.467626</td>\n",
       "      <td>69.604317</td>\n",
       "      <td>76.079137</td>\n",
       "    </tr>\n",
       "    <tr>\n",
       "      <th>Response to drug</th>\n",
       "      <td>35.747304</td>\n",
       "      <td>39.599384</td>\n",
       "      <td>48.998459</td>\n",
       "    </tr>\n",
       "  </tbody>\n",
       "</table>\n",
       "</div>"
      ],
      "text/plain": [
       "                                    first_3    first_5   first_10\n",
       "parent_efo_name                                                  \n",
       "Biological process                36.802030  42.639594  48.477157\n",
       "Body measurement                  58.431373  61.176471  65.882353\n",
       "Cancer                            57.843137  63.529412  77.058824\n",
       "Cardiovascular disease            62.889518  66.855524  74.787535\n",
       "Cardiovascular measurement        52.816901  59.154930  67.957746\n",
       "Digestive system disorder         78.971963  83.644860  89.252336\n",
       "Hematological measurement         60.150376  66.917293  72.932331\n",
       "Immune system disorder            73.408240  80.524345  85.393258\n",
       "Inflammatory measurement          58.333333  66.666667  70.000000\n",
       "Lipid or lipoprotein measurement  47.093023  56.395349  71.317829\n",
       "Liver enzyme measurement          76.666667  76.666667  80.000000\n",
       "Metabolic disorder                37.366548  55.516014  66.903915\n",
       "Neurological disorder             52.655367  58.305085  64.632768\n",
       "Other disease                     65.289256  71.074380  75.867769\n",
       "Other measurement                 25.296443  29.055979  33.651990\n",
       "Other trait                       65.467626  69.604317  76.079137\n",
       "Response to drug                  35.747304  39.599384  48.998459"
      ]
     },
     "execution_count": 52,
     "metadata": {},
     "output_type": "execute_result"
    }
   ],
   "source": [
    "def top_x(s, cutoff):\n",
    "    return sum(s.apply(lambda x: x <= cutoff)) / len(s) * 100\n",
    "\n",
    "\n",
    "top_ranks = (\n",
    "    gwas_to_efo[[\"parent_efo_name\", \"expected_match_rank\"]]\n",
    "    .groupby(\"parent_efo_name\")\n",
    "    .agg(\n",
    "        first_3=pd.NamedAgg(\n",
    "            column=\"expected_match_rank\", aggfunc=partial(top_x, cutoff=3),\n",
    "        ),\n",
    "        first_5=pd.NamedAgg(\n",
    "            column=\"expected_match_rank\", aggfunc=partial(top_x, cutoff=5),\n",
    "        ),\n",
    "        first_10=pd.NamedAgg(\n",
    "            column=\"expected_match_rank\", aggfunc=partial(top_x, cutoff=10),\n",
    "        ),\n",
    "    )\n",
    ")\n",
    "top_ranks"
   ]
  },
  {
   "cell_type": "markdown",
   "metadata": {},
   "source": [
    "# distances of top ranking terms to expected match term\n",
    "\n",
    "TODO"
   ]
  }
 ],
 "metadata": {
  "kernelspec": {
   "display_name": "Python 3",
   "language": "python",
   "name": "python3"
  },
  "language_info": {
   "codemirror_mode": {
    "name": "ipython",
    "version": 3
   },
   "file_extension": ".py",
   "mimetype": "text/x-python",
   "name": "python",
   "nbconvert_exporter": "python",
   "pygments_lexer": "ipython3",
   "version": "3.7.9"
  }
 },
 "nbformat": 4,
 "nbformat_minor": 4
}
